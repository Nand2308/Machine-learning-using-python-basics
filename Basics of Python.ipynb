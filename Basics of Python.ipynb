{
 "cells": [
  {
   "cell_type": "markdown",
   "id": "448aefea-2433-4c2f-81ee-eb5aad9d24a1",
   "metadata": {},
   "source": [
    "#Python\n",
    "##Python\n",
    "###Python\n",
    "####Python\n",
    "#####Python\n",
    "#######Python\n",
    "<pre> Python is a high level languuage</pre>"
   ]
  },
  {
   "cell_type": "code",
   "execution_count": 1,
   "id": "c293d2eb-495e-4691-b3bc-24fe0158d8f0",
   "metadata": {},
   "outputs": [
    {
     "name": "stdout",
     "output_type": "stream",
     "text": [
      "Hello Summer🌞\n"
     ]
    }
   ],
   "source": [
    "#Simple python program\n",
    "print('Hello Summer🌞')"
   ]
  },
  {
   "cell_type": "code",
   "execution_count": 3,
   "id": "9b3d058c-431c-405c-8397-0a97d7174f45",
   "metadata": {},
   "outputs": [
    {
     "name": "stdout",
     "output_type": "stream",
     "text": [
      "\n",
      "Here is a list of the Python keywords.  Enter any keyword to get more help.\n",
      "\n",
      "False               class               from                or\n",
      "None                continue            global              pass\n",
      "True                def                 if                  raise\n",
      "and                 del                 import              return\n",
      "as                  elif                in                  try\n",
      "assert              else                is                  while\n",
      "async               except              lambda              with\n",
      "await               finally             nonlocal            yield\n",
      "break               for                 not                 \n",
      "\n"
     ]
    }
   ],
   "source": [
    "#to get python keywords\n",
    "help('keywords')"
   ]
  },
  {
   "cell_type": "code",
   "execution_count": 4,
   "id": "f6670b69-ffe0-43d3-8e0c-e241a7a603b9",
   "metadata": {},
   "outputs": [
    {
     "name": "stdout",
     "output_type": "stream",
     "text": [
      "The \"if\" statement\n",
      "******************\n",
      "\n",
      "The \"if\" statement is used for conditional execution:\n",
      "\n",
      "   if_stmt ::= \"if\" assignment_expression \":\" suite\n",
      "               (\"elif\" assignment_expression \":\" suite)*\n",
      "               [\"else\" \":\" suite]\n",
      "\n",
      "It selects exactly one of the suites by evaluating the expressions one\n",
      "by one until one is found to be true (see section Boolean operations\n",
      "for the definition of true and false); then that suite is executed\n",
      "(and no other part of the \"if\" statement is executed or evaluated).\n",
      "If all expressions are false, the suite of the \"else\" clause, if\n",
      "present, is executed.\n",
      "\n",
      "Related help topics: TRUTHVALUE\n",
      "\n"
     ]
    }
   ],
   "source": [
    "help('if')"
   ]
  },
  {
   "cell_type": "code",
   "execution_count": 6,
   "id": "72cecef4-09f5-4981-84cb-64a230c30ea2",
   "metadata": {},
   "outputs": [
    {
     "ename": "SyntaxError",
     "evalue": "invalid decimal literal (3099618545.py, line 1)",
     "output_type": "error",
     "traceback": [
      "\u001b[1;36m  Cell \u001b[1;32mIn[6], line 1\u001b[1;36m\u001b[0m\n\u001b[1;33m    123var = 20\u001b[0m\n\u001b[1;37m      ^\u001b[0m\n\u001b[1;31mSyntaxError\u001b[0m\u001b[1;31m:\u001b[0m invalid decimal literal\n"
     ]
    }
   ],
   "source": [
    "123var = 20"
   ]
  },
  {
   "cell_type": "code",
   "execution_count": 7,
   "id": "b1d8b2c4-2242-41af-b05f-c6031170e10f",
   "metadata": {},
   "outputs": [],
   "source": [
    "var123 = 20"
   ]
  },
  {
   "cell_type": "code",
   "execution_count": 8,
   "id": "d9f86a37-f79e-4ec7-92a2-cf64ade09f9e",
   "metadata": {},
   "outputs": [
    {
     "ename": "SyntaxError",
     "evalue": "invalid syntax (639222759.py, line 1)",
     "output_type": "error",
     "traceback": [
      "\u001b[1;36m  Cell \u001b[1;32mIn[8], line 1\u001b[1;36m\u001b[0m\n\u001b[1;33m    var abc = 30\u001b[0m\n\u001b[1;37m        ^\u001b[0m\n\u001b[1;31mSyntaxError\u001b[0m\u001b[1;31m:\u001b[0m invalid syntax\n"
     ]
    }
   ],
   "source": [
    "var abc = 30"
   ]
  },
  {
   "cell_type": "code",
   "execution_count": 9,
   "id": "d95e7682-200f-48d6-8171-5f58156ea3dd",
   "metadata": {},
   "outputs": [
    {
     "ename": "SyntaxError",
     "evalue": "invalid syntax (683616156.py, line 1)",
     "output_type": "error",
     "traceback": [
      "\u001b[1;36m  Cell \u001b[1;32mIn[9], line 1\u001b[1;36m\u001b[0m\n\u001b[1;33m    $var = 5\u001b[0m\n\u001b[1;37m    ^\u001b[0m\n\u001b[1;31mSyntaxError\u001b[0m\u001b[1;31m:\u001b[0m invalid syntax\n"
     ]
    }
   ],
   "source": [
    "$var = 5"
   ]
  },
  {
   "cell_type": "code",
   "execution_count": 10,
   "id": "89807307-7bfe-4777-aa2d-d60b1010bb79",
   "metadata": {},
   "outputs": [],
   "source": [
    "variable = 20"
   ]
  },
  {
   "cell_type": "code",
   "execution_count": 11,
   "id": "e1374c76-3559-41f8-b54d-a8d504950016",
   "metadata": {},
   "outputs": [],
   "source": [
    "erase = 20"
   ]
  },
  {
   "cell_type": "code",
   "execution_count": 17,
   "id": "11388e37-ff81-493a-86d9-70f3f00666ed",
   "metadata": {},
   "outputs": [
    {
     "name": "stdout",
     "output_type": "stream",
     "text": [
      "50\n"
     ]
    }
   ],
   "source": [
    "var = 50\n",
    "print(var)"
   ]
  },
  {
   "cell_type": "code",
   "execution_count": 18,
   "id": "1e74d067-57b1-41c9-8067-b162b81486f7",
   "metadata": {},
   "outputs": [
    {
     "name": "stdout",
     "output_type": "stream",
     "text": [
      "50\n"
     ]
    }
   ],
   "source": [
    "VAR = 50\n",
    "print(VAR)"
   ]
  },
  {
   "cell_type": "raw",
   "id": "e3c57f2e-dbea-40a0-8788-d670fe5a7fde",
   "metadata": {},
   "source": [
    "print(VAR)\n",
    "print(var)"
   ]
  },
  {
   "cell_type": "code",
   "execution_count": 19,
   "id": "ab6460d3-c8f0-4723-8b68-6b517742babb",
   "metadata": {},
   "outputs": [
    {
     "name": "stdout",
     "output_type": "stream",
     "text": [
      "10\n"
     ]
    }
   ],
   "source": [
    "a = 10\n",
    "print(a)"
   ]
  },
  {
   "cell_type": "code",
   "execution_count": 21,
   "id": "3be60847-476f-43e9-a1c0-ab52d556f8db",
   "metadata": {},
   "outputs": [
    {
     "data": {
      "text/plain": [
       "int"
      ]
     },
     "execution_count": 21,
     "metadata": {},
     "output_type": "execute_result"
    }
   ],
   "source": [
    "type(a)"
   ]
  },
  {
   "cell_type": "code",
   "execution_count": 22,
   "id": "04eb78f8-07aa-4c33-8fe7-f0750f2112d3",
   "metadata": {},
   "outputs": [
    {
     "name": "stdout",
     "output_type": "stream",
     "text": [
      "2.5\n"
     ]
    }
   ],
   "source": [
    "f = 2.5\n",
    "print(f)"
   ]
  },
  {
   "cell_type": "code",
   "execution_count": 23,
   "id": "7f5728ae-3a4e-4f26-b546-595b22b8f1ae",
   "metadata": {},
   "outputs": [
    {
     "data": {
      "text/plain": [
       "float"
      ]
     },
     "execution_count": 23,
     "metadata": {},
     "output_type": "execute_result"
    }
   ],
   "source": [
    "type(f)"
   ]
  },
  {
   "cell_type": "code",
   "execution_count": 24,
   "id": "3e96e9b9-6073-4884-9bb0-023a7da4b3b5",
   "metadata": {},
   "outputs": [
    {
     "ename": "NameError",
     "evalue": "name 'i' is not defined",
     "output_type": "error",
     "traceback": [
      "\u001b[1;31m---------------------------------------------------------------------------\u001b[0m",
      "\u001b[1;31mNameError\u001b[0m                                 Traceback (most recent call last)",
      "Cell \u001b[1;32mIn[24], line 1\u001b[0m\n\u001b[1;32m----> 1\u001b[0m a \u001b[38;5;241m=\u001b[39m \u001b[38;5;241m2\u001b[39m\u001b[38;5;241m+\u001b[39mi\n\u001b[0;32m      2\u001b[0m \u001b[38;5;28mprint\u001b[39m(a)\n",
      "\u001b[1;31mNameError\u001b[0m: name 'i' is not defined"
     ]
    }
   ],
   "source": [
    "a = 2+i\n",
    "print(a)"
   ]
  },
  {
   "cell_type": "code",
   "execution_count": 26,
   "id": "edffa62c-ad2c-4637-b71f-40a0051581d3",
   "metadata": {},
   "outputs": [
    {
     "name": "stdout",
     "output_type": "stream",
     "text": [
      "(2+5j)\n"
     ]
    }
   ],
   "source": [
    "a = 2+5j\n",
    "print(a)"
   ]
  },
  {
   "cell_type": "code",
   "execution_count": 27,
   "id": "bea87287-332c-41b9-8eef-38fc0bfc3159",
   "metadata": {},
   "outputs": [
    {
     "data": {
      "text/plain": [
       "complex"
      ]
     },
     "execution_count": 27,
     "metadata": {},
     "output_type": "execute_result"
    }
   ],
   "source": [
    "type(a)"
   ]
  },
  {
   "cell_type": "code",
   "execution_count": 29,
   "id": "67dbf17d-4f19-4c30-a814-f89b56248e5d",
   "metadata": {},
   "outputs": [
    {
     "name": "stdout",
     "output_type": "stream",
     "text": [
      "True\n"
     ]
    }
   ],
   "source": [
    "a = True\n",
    "print(a)"
   ]
  },
  {
   "cell_type": "code",
   "execution_count": 30,
   "id": "c8ae2a2a-1c29-4708-9b7d-ffba93515ea0",
   "metadata": {},
   "outputs": [
    {
     "data": {
      "text/plain": [
       "bool"
      ]
     },
     "execution_count": 30,
     "metadata": {},
     "output_type": "execute_result"
    }
   ],
   "source": [
    "type(a)"
   ]
  },
  {
   "cell_type": "code",
   "execution_count": 31,
   "id": "84f69ef6-fb01-4ca7-89d1-ab114d8464e5",
   "metadata": {},
   "outputs": [
    {
     "name": "stdout",
     "output_type": "stream",
     "text": [
      "hi\n"
     ]
    }
   ],
   "source": [
    "a = (\"hi\")\n",
    "print(a)"
   ]
  },
  {
   "cell_type": "code",
   "execution_count": 32,
   "id": "82e89beb-1b2b-487b-adb6-3ea5c929ad57",
   "metadata": {},
   "outputs": [
    {
     "data": {
      "text/plain": [
       "str"
      ]
     },
     "execution_count": 32,
     "metadata": {},
     "output_type": "execute_result"
    }
   ],
   "source": [
    "type(a)"
   ]
  },
  {
   "cell_type": "code",
   "execution_count": 33,
   "id": "07a7ba16-66dd-4c5b-9d49-354ffd100611",
   "metadata": {},
   "outputs": [
    {
     "name": "stdout",
     "output_type": "stream",
     "text": [
      "[1, 2, 3, 4]\n"
     ]
    }
   ],
   "source": [
    "a = [1,2,3,4]\n",
    "print(a)\n"
   ]
  },
  {
   "cell_type": "code",
   "execution_count": 34,
   "id": "207f3cb1-980b-4292-809e-7776e2452de7",
   "metadata": {},
   "outputs": [
    {
     "data": {
      "text/plain": [
       "list"
      ]
     },
     "execution_count": 34,
     "metadata": {},
     "output_type": "execute_result"
    }
   ],
   "source": [
    "type(a)"
   ]
  },
  {
   "cell_type": "code",
   "execution_count": 35,
   "id": "a0f10acb-a259-499f-8a95-f9ce4fd15dbf",
   "metadata": {},
   "outputs": [
    {
     "name": "stdout",
     "output_type": "stream",
     "text": [
      "(1, 2, 3, 4)\n"
     ]
    }
   ],
   "source": [
    "a = (1,2,3,4)\n",
    "print(a)\n"
   ]
  },
  {
   "cell_type": "code",
   "execution_count": 36,
   "id": "e62a8d18-9030-4941-ac83-0079fc4e9a4e",
   "metadata": {},
   "outputs": [
    {
     "data": {
      "text/plain": [
       "tuple"
      ]
     },
     "execution_count": 36,
     "metadata": {},
     "output_type": "execute_result"
    }
   ],
   "source": [
    "type(a)\n"
   ]
  },
  {
   "cell_type": "code",
   "execution_count": 38,
   "id": "eeae6f0d-917a-40b4-b199-59c4698fcb92",
   "metadata": {},
   "outputs": [
    {
     "name": "stdout",
     "output_type": "stream",
     "text": [
      "{1, 2, 3, 4}\n"
     ]
    }
   ],
   "source": [
    "a = {1,2,3,4}\n",
    "print(a)"
   ]
  },
  {
   "cell_type": "code",
   "execution_count": 39,
   "id": "b6772ef7-feac-4e51-8829-10168ab457ad",
   "metadata": {},
   "outputs": [
    {
     "data": {
      "text/plain": [
       "set"
      ]
     },
     "execution_count": 39,
     "metadata": {},
     "output_type": "execute_result"
    }
   ],
   "source": [
    "type(a)"
   ]
  },
  {
   "cell_type": "code",
   "execution_count": 43,
   "id": "f9ff7063-bf6b-48a3-ab3e-788500f4d277",
   "metadata": {},
   "outputs": [
    {
     "name": "stdout",
     "output_type": "stream",
     "text": [
      "this is a single line string\n",
      "this is a single line string\n"
     ]
    }
   ],
   "source": [
    "a = 'this is a single line string'\n",
    "b = \"this is a single line string\"\n",
    "print(a)\n",
    "print(b)"
   ]
  },
  {
   "cell_type": "code",
   "execution_count": 46,
   "id": "4b78c564-8b12-4108-bac5-862d3bb4e1dc",
   "metadata": {},
   "outputs": [
    {
     "name": "stdout",
     "output_type": "stream",
     "text": [
      "this is a \n",
      "multi line string\n"
     ]
    }
   ],
   "source": [
    "a = '''this is a \n",
    "multi line string'''\n",
    "print(a)"
   ]
  },
  {
   "cell_type": "code",
   "execution_count": 48,
   "id": "c276e603-6283-4f92-afa3-6100a26c043c",
   "metadata": {},
   "outputs": [
    {
     "name": "stdout",
     "output_type": "stream",
     "text": [
      "tasty apple\n"
     ]
    },
    {
     "data": {
      "text/plain": [
       "str"
      ]
     },
     "execution_count": 48,
     "metadata": {},
     "output_type": "execute_result"
    }
   ],
   "source": [
    "a = \"tasty apple\"\n",
    "print(a)\n",
    "type(a)"
   ]
  },
  {
   "cell_type": "code",
   "execution_count": 54,
   "id": "6ccd1b46-21d8-460b-acab-e36909f4ce01",
   "metadata": {},
   "outputs": [
    {
     "name": "stdout",
     "output_type": "stream",
     "text": [
      "tasty apple\n"
     ]
    },
    {
     "data": {
      "text/plain": [
       "'y'"
      ]
     },
     "execution_count": 54,
     "metadata": {},
     "output_type": "execute_result"
    }
   ],
   "source": [
    "a = 'tasty apple'\n",
    "print(a)\n",
    "a[4]\n"
   ]
  },
  {
   "cell_type": "code",
   "execution_count": 55,
   "id": "1059a15c-ed4a-4d3c-80eb-5383f28d546c",
   "metadata": {},
   "outputs": [
    {
     "data": {
      "text/plain": [
       "'y'"
      ]
     },
     "execution_count": 55,
     "metadata": {},
     "output_type": "execute_result"
    }
   ],
   "source": [
    "a[-7]"
   ]
  },
  {
   "cell_type": "code",
   "execution_count": 56,
   "id": "8a8d5447-b89b-4c79-9d6f-999bf5e5117c",
   "metadata": {},
   "outputs": [
    {
     "data": {
      "text/plain": [
       "'t'"
      ]
     },
     "execution_count": 56,
     "metadata": {},
     "output_type": "execute_result"
    }
   ],
   "source": [
    "a[-11]"
   ]
  },
  {
   "cell_type": "code",
   "execution_count": 57,
   "id": "7c84f34e-8158-461f-8058-bf7eeebfda5a",
   "metadata": {},
   "outputs": [
    {
     "data": {
      "text/plain": [
       "'sty a'"
      ]
     },
     "execution_count": 57,
     "metadata": {},
     "output_type": "execute_result"
    }
   ],
   "source": [
    "a[2:7:1]"
   ]
  },
  {
   "cell_type": "code",
   "execution_count": 58,
   "id": "646d82e2-6007-4c78-8e72-ce945fedff9f",
   "metadata": {},
   "outputs": [
    {
     "data": {
      "text/plain": [
       "'at pl'"
      ]
     },
     "execution_count": 58,
     "metadata": {},
     "output_type": "execute_result"
    }
   ],
   "source": [
    "a[1:12:2]"
   ]
  },
  {
   "cell_type": "code",
   "execution_count": 72,
   "id": "7a153e5b-a868-4c04-89ee-d3b9572f1c9d",
   "metadata": {},
   "outputs": [
    {
     "data": {
      "text/plain": [
       "'tsyape'"
      ]
     },
     "execution_count": 72,
     "metadata": {},
     "output_type": "execute_result"
    }
   ],
   "source": [
    "a[0:11:2]"
   ]
  },
  {
   "cell_type": "code",
   "execution_count": 73,
   "id": "5a2f8ee4-f8f4-43b4-9b7a-482d52863ae2",
   "metadata": {},
   "outputs": [
    {
     "data": {
      "text/plain": [
       "'ttal'"
      ]
     },
     "execution_count": 73,
     "metadata": {},
     "output_type": "execute_result"
    }
   ],
   "source": [
    "a[0:11:3]"
   ]
  },
  {
   "cell_type": "code",
   "execution_count": 68,
   "id": "040a6f72-9d91-4270-8752-10e569daee4c",
   "metadata": {},
   "outputs": [
    {
     "data": {
      "text/plain": [
       "'tsyape'"
      ]
     },
     "execution_count": 68,
     "metadata": {},
     "output_type": "execute_result"
    }
   ],
   "source": [
    "a[-11::2]"
   ]
  },
  {
   "cell_type": "code",
   "execution_count": 75,
   "id": "798fe33b-06a4-4dcf-9777-fa5219e58ef9",
   "metadata": {},
   "outputs": [
    {
     "data": {
      "text/plain": [
       "'ttal'"
      ]
     },
     "execution_count": 75,
     "metadata": {},
     "output_type": "execute_result"
    }
   ],
   "source": [
    "a[-11::3]"
   ]
  },
  {
   "cell_type": "code",
   "execution_count": 76,
   "id": "08340bf1-a10e-4192-9dca-10a425b026b5",
   "metadata": {},
   "outputs": [
    {
     "data": {
      "text/plain": [
       "'ttal'"
      ]
     },
     "execution_count": 76,
     "metadata": {},
     "output_type": "execute_result"
    }
   ],
   "source": [
    "a[-11:-1:3]"
   ]
  },
  {
   "cell_type": "code",
   "execution_count": 77,
   "id": "14b2b9ff-38d8-4e09-b96b-266bbe2927ca",
   "metadata": {},
   "outputs": [
    {
     "data": {
      "text/plain": [
       "'elppa ytsat'"
      ]
     },
     "execution_count": 77,
     "metadata": {},
     "output_type": "execute_result"
    }
   ],
   "source": [
    "a[::-1]"
   ]
  },
  {
   "cell_type": "code",
   "execution_count": 78,
   "id": "b8e6eadd-800d-458b-b246-d2f716f00831",
   "metadata": {},
   "outputs": [
    {
     "data": {
      "text/plain": [
       "'a yts'"
      ]
     },
     "execution_count": 78,
     "metadata": {},
     "output_type": "execute_result"
    }
   ],
   "source": [
    "a[6:1:-1]"
   ]
  },
  {
   "cell_type": "code",
   "execution_count": 79,
   "id": "ffa9a91d-02e5-4d1a-a1b5-dab2ce169fa8",
   "metadata": {},
   "outputs": [
    {
     "data": {
      "text/plain": [
       "''"
      ]
     },
     "execution_count": 79,
     "metadata": {},
     "output_type": "execute_result"
    }
   ],
   "source": [
    "a[6:1:1]"
   ]
  },
  {
   "cell_type": "code",
   "execution_count": 80,
   "id": "995cf3fb-9dbe-4a0c-a628-1e157d263910",
   "metadata": {},
   "outputs": [
    {
     "data": {
      "text/plain": [
       "'a yts'"
      ]
     },
     "execution_count": 80,
     "metadata": {},
     "output_type": "execute_result"
    }
   ],
   "source": [
    "a[-5:-10:-1]"
   ]
  },
  {
   "cell_type": "code",
   "execution_count": 81,
   "id": "47204db7-6412-4bc6-b8af-13301c25f50f",
   "metadata": {},
   "outputs": [
    {
     "name": "stdout",
     "output_type": "stream",
     "text": [
      "HeLLo WorlD\n"
     ]
    },
    {
     "data": {
      "text/plain": [
       "str"
      ]
     },
     "execution_count": 81,
     "metadata": {},
     "output_type": "execute_result"
    }
   ],
   "source": [
    "a = \"HeLLo WorlD\"\n",
    "print(a)\n",
    "type(a)"
   ]
  },
  {
   "cell_type": "code",
   "execution_count": 83,
   "id": "7f800961-f28e-4495-82ed-2856b4f7011e",
   "metadata": {},
   "outputs": [
    {
     "data": {
      "text/plain": [
       "'Hello world'"
      ]
     },
     "execution_count": 83,
     "metadata": {},
     "output_type": "execute_result"
    }
   ],
   "source": [
    "a.capitalize()"
   ]
  },
  {
   "cell_type": "code",
   "execution_count": 84,
   "id": "a0b7fd1f-0721-4845-b029-57e3a8ba7f9c",
   "metadata": {},
   "outputs": [
    {
     "data": {
      "text/plain": [
       "'HELLO WORLD'"
      ]
     },
     "execution_count": 84,
     "metadata": {},
     "output_type": "execute_result"
    }
   ],
   "source": [
    "a.upper()"
   ]
  },
  {
   "cell_type": "code",
   "execution_count": 85,
   "id": "09842835-64c7-4da0-be89-699239518162",
   "metadata": {},
   "outputs": [
    {
     "data": {
      "text/plain": [
       "'hello world'"
      ]
     },
     "execution_count": 85,
     "metadata": {},
     "output_type": "execute_result"
    }
   ],
   "source": [
    "a.lower()"
   ]
  },
  {
   "cell_type": "code",
   "execution_count": 86,
   "id": "64fbb9c8-d8c5-41ff-ab4e-d5b4e0f1fd51",
   "metadata": {},
   "outputs": [
    {
     "data": {
      "text/plain": [
       "'hello world'"
      ]
     },
     "execution_count": 86,
     "metadata": {},
     "output_type": "execute_result"
    }
   ],
   "source": [
    "a.casefold()"
   ]
  },
  {
   "cell_type": "code",
   "execution_count": 87,
   "id": "a594687d-4acc-45b6-9382-759afc5e4df1",
   "metadata": {},
   "outputs": [
    {
     "data": {
      "text/plain": [
       "'Hello World'"
      ]
     },
     "execution_count": 87,
     "metadata": {},
     "output_type": "execute_result"
    }
   ],
   "source": [
    "a.title()"
   ]
  },
  {
   "cell_type": "code",
   "execution_count": 88,
   "id": "3751f3b6-e94d-4dd7-80ca-dcbbb0dc4b14",
   "metadata": {},
   "outputs": [
    {
     "data": {
      "text/plain": [
       "'hEllO wORLd'"
      ]
     },
     "execution_count": 88,
     "metadata": {},
     "output_type": "execute_result"
    }
   ],
   "source": [
    "a.swapcase()"
   ]
  },
  {
   "cell_type": "code",
   "execution_count": 91,
   "id": "1f3bddcb-7ce8-4631-947f-15f4d858ee9b",
   "metadata": {},
   "outputs": [
    {
     "data": {
      "text/plain": [
       "'                   HeLLo WorlD                    '"
      ]
     },
     "execution_count": 91,
     "metadata": {},
     "output_type": "execute_result"
    }
   ],
   "source": [
    "a.center(50)"
   ]
  },
  {
   "cell_type": "code",
   "execution_count": 92,
   "id": "3a706f92-e9ea-487e-ac2b-d8660ff1979a",
   "metadata": {},
   "outputs": [
    {
     "data": {
      "text/plain": [
       "'👋👋👋👋👋👋👋👋👋👋👋👋👋👋👋👋👋👋👋HeLLo WorlD👋👋👋👋👋👋👋👋👋👋👋👋👋👋👋👋👋👋👋👋'"
      ]
     },
     "execution_count": 92,
     "metadata": {},
     "output_type": "execute_result"
    }
   ],
   "source": [
    "a.center(50,'👋')"
   ]
  },
  {
   "cell_type": "code",
   "execution_count": 95,
   "id": "325ee920-7309-4cad-88aa-5bd75c9ba5fa",
   "metadata": {},
   "outputs": [
    {
     "data": {
      "text/plain": [
       "1"
      ]
     },
     "execution_count": 95,
     "metadata": {},
     "output_type": "execute_result"
    }
   ],
   "source": [
    "a.index('e')"
   ]
  },
  {
   "cell_type": "code",
   "execution_count": 96,
   "id": "ee724355-9f21-4b63-a219-d4693a827a77",
   "metadata": {},
   "outputs": [
    {
     "data": {
      "text/plain": [
       "1"
      ]
     },
     "execution_count": 96,
     "metadata": {},
     "output_type": "execute_result"
    }
   ],
   "source": [
    "a.count('e')"
   ]
  },
  {
   "cell_type": "code",
   "execution_count": 97,
   "id": "a8f5903e-401a-4ff0-a558-60aaf00edd7f",
   "metadata": {},
   "outputs": [
    {
     "data": {
      "text/plain": [
       "False"
      ]
     },
     "execution_count": 97,
     "metadata": {},
     "output_type": "execute_result"
    }
   ],
   "source": [
    "a.endswith('e')"
   ]
  },
  {
   "cell_type": "code",
   "execution_count": 98,
   "id": "d33f5d73-5075-4417-8818-b65ed1cd6c48",
   "metadata": {},
   "outputs": [
    {
     "data": {
      "text/plain": [
       "'riya@gmail.com'"
      ]
     },
     "execution_count": 98,
     "metadata": {},
     "output_type": "execute_result"
    }
   ],
   "source": [
    "'@'.join(['riya','gmail.com'])"
   ]
  },
  {
   "cell_type": "code",
   "execution_count": 100,
   "id": "53b903bb-e9c0-42c8-8e83-6bd0de9e5335",
   "metadata": {},
   "outputs": [
    {
     "data": {
      "text/plain": [
       "'danthulurinandini2004@gmail.com'"
      ]
     },
     "execution_count": 100,
     "metadata": {},
     "output_type": "execute_result"
    }
   ],
   "source": [
    "'@'.join(['danthulurinandini2004','gmail.com'])"
   ]
  },
  {
   "cell_type": "code",
   "execution_count": 108,
   "id": "46d527d6-f9b1-428a-9dba-025f6f6ea69c",
   "metadata": {},
   "outputs": [
    {
     "data": {
      "text/plain": [
       "['Nand', 'n', ' Dantulur', '']"
      ]
     },
     "execution_count": 108,
     "metadata": {},
     "output_type": "execute_result"
    }
   ],
   "source": [
    "'Nandini Dantuluri'.split('i')"
   ]
  },
  {
   "cell_type": "code",
   "execution_count": 110,
   "id": "9478a104-fc60-438b-8ac1-482793737f43",
   "metadata": {},
   "outputs": [
    {
     "data": {
      "text/plain": [
       "'hello'"
      ]
     },
     "execution_count": 110,
     "metadata": {},
     "output_type": "execute_result"
    }
   ],
   "source": [
    "'hello'"
   ]
  },
  {
   "cell_type": "code",
   "execution_count": 114,
   "id": "9bdba047-805b-4c22-83b0-3a6c911787b5",
   "metadata": {},
   "outputs": [
    {
     "data": {
      "text/plain": [
       "''"
      ]
     },
     "execution_count": 114,
     "metadata": {},
     "output_type": "execute_result"
    }
   ],
   "source": [
    "'******************************hello************************'.strip('*''hello')"
   ]
  },
  {
   "cell_type": "code",
   "execution_count": 115,
   "id": "f28b37a7-4142-461b-a1ba-2e7786324883",
   "metadata": {},
   "outputs": [
    {
     "data": {
      "text/plain": [
       "'hello'"
      ]
     },
     "execution_count": 115,
     "metadata": {},
     "output_type": "execute_result"
    }
   ],
   "source": [
    "'            hello            '.strip()"
   ]
  },
  {
   "cell_type": "code",
   "execution_count": 1,
   "id": "ef0c7dc5-1e54-4834-a056-4194d5032d93",
   "metadata": {},
   "outputs": [
    {
     "name": "stdout",
     "output_type": "stream",
     "text": [
      "[20, 2.5, 'cat', True]\n"
     ]
    }
   ],
   "source": [
    "l = [20,2.5,'cat',True]\n",
    "print(l)"
   ]
  },
  {
   "cell_type": "code",
   "execution_count": 2,
   "id": "2520bece-7821-4429-834d-32f620704b05",
   "metadata": {},
   "outputs": [
    {
     "data": {
      "text/plain": [
       "list"
      ]
     },
     "execution_count": 2,
     "metadata": {},
     "output_type": "execute_result"
    }
   ],
   "source": [
    "type(l)"
   ]
  },
  {
   "cell_type": "code",
   "execution_count": 3,
   "id": "446a85bc-7c09-488a-b4d5-1b749a193cb2",
   "metadata": {},
   "outputs": [
    {
     "data": {
      "text/plain": [
       "'cat'"
      ]
     },
     "execution_count": 3,
     "metadata": {},
     "output_type": "execute_result"
    }
   ],
   "source": [
    "l[2]"
   ]
  },
  {
   "cell_type": "code",
   "execution_count": 4,
   "id": "466ba933-54a1-46e5-8737-792de7bee144",
   "metadata": {},
   "outputs": [
    {
     "data": {
      "text/plain": [
       "'cat'"
      ]
     },
     "execution_count": 4,
     "metadata": {},
     "output_type": "execute_result"
    }
   ],
   "source": [
    "l[-2]\n"
   ]
  },
  {
   "cell_type": "code",
   "execution_count": 5,
   "id": "76e63b04-c4d8-4e96-853a-680cb2e1d657",
   "metadata": {},
   "outputs": [
    {
     "data": {
      "text/plain": [
       "[20, 'cat']"
      ]
     },
     "execution_count": 5,
     "metadata": {},
     "output_type": "execute_result"
    }
   ],
   "source": [
    "l[0:4:2]"
   ]
  },
  {
   "cell_type": "code",
   "execution_count": 7,
   "id": "c3eb067f-30a8-46be-be0e-fbb3a1c72967",
   "metadata": {},
   "outputs": [
    {
     "name": "stdout",
     "output_type": "stream",
     "text": [
      "[38, 54, 50, 1]\n"
     ]
    },
    {
     "data": {
      "text/plain": [
       "list"
      ]
     },
     "execution_count": 7,
     "metadata": {},
     "output_type": "execute_result"
    }
   ],
   "source": [
    "l=[38,54,50,1]\n",
    "print(l)\n",
    "type(l)"
   ]
  },
  {
   "cell_type": "code",
   "execution_count": 10,
   "id": "2e44fa14-ec06-4d4c-9f52-76d1fb349473",
   "metadata": {},
   "outputs": [
    {
     "name": "stdout",
     "output_type": "stream",
     "text": [
      "[38, 54, 50, 1, 100]\n",
      "[38, 54, 50, 1, 100, 100]\n"
     ]
    }
   ],
   "source": [
    "print(l)\n",
    "l.append(100)\n",
    "print(l)"
   ]
  },
  {
   "cell_type": "code",
   "execution_count": 11,
   "id": "2a39cba7-c3d6-40fa-96c9-38ce6d1a9af5",
   "metadata": {},
   "outputs": [
    {
     "name": "stdout",
     "output_type": "stream",
     "text": [
      "[38, 54, 50, 1, 100, 100]\n",
      "[38, 99, 54, 50, 1, 100, 100]\n"
     ]
    }
   ],
   "source": [
    "print(l)\n",
    "l.insert(1,99)\n",
    "print(l)"
   ]
  },
  {
   "cell_type": "code",
   "execution_count": 22,
   "id": "bb35dd0b-cdd3-40b0-909e-cd9a8cb19d40",
   "metadata": {},
   "outputs": [
    {
     "name": "stdout",
     "output_type": "stream",
     "text": [
      "[38, 50, 54, 1]\n"
     ]
    }
   ],
   "source": [
    "l=[38,50,54,1]\n",
    "print(l)"
   ]
  },
  {
   "cell_type": "code",
   "execution_count": 23,
   "id": "d87835d2-e649-4667-9f2f-601d61a2478b",
   "metadata": {},
   "outputs": [
    {
     "name": "stdout",
     "output_type": "stream",
     "text": [
      "[38, 50, 54, 1]\n",
      "[50, 54, 1]\n"
     ]
    }
   ],
   "source": [
    "print(l)\n",
    "l.remove(38)\n",
    "print(l)"
   ]
  },
  {
   "cell_type": "code",
   "execution_count": 24,
   "id": "082dddb5-e7cc-4b52-b816-fd112221b36f",
   "metadata": {},
   "outputs": [
    {
     "name": "stdout",
     "output_type": "stream",
     "text": [
      "[50, 54, 1]\n",
      "[50, 54, 1]\n"
     ]
    }
   ],
   "source": [
    "print(l)\n",
    "m=l.copy()\n",
    "print(m)"
   ]
  },
  {
   "cell_type": "code",
   "execution_count": 26,
   "id": "763343fe-94fe-4af3-9d2f-fe806d436117",
   "metadata": {},
   "outputs": [
    {
     "data": {
      "text/plain": [
       "1"
      ]
     },
     "execution_count": 26,
     "metadata": {},
     "output_type": "execute_result"
    }
   ],
   "source": [
    "l.count(1)\n"
   ]
  },
  {
   "cell_type": "code",
   "execution_count": 28,
   "id": "ce31eb63-db72-4c94-bbd4-0b420daf1693",
   "metadata": {},
   "outputs": [
    {
     "data": {
      "text/plain": [
       "1"
      ]
     },
     "execution_count": 28,
     "metadata": {},
     "output_type": "execute_result"
    }
   ],
   "source": [
    "l.index(54)"
   ]
  },
  {
   "cell_type": "code",
   "execution_count": 29,
   "id": "06884805-5777-420c-8507-165aa830bfb7",
   "metadata": {},
   "outputs": [
    {
     "name": "stdout",
     "output_type": "stream",
     "text": [
      "[20, 38, 54, 1, 2, 5, 50]\n"
     ]
    }
   ],
   "source": [
    "l=[20,38,54,1,2,5,50]\n",
    "print(l)"
   ]
  },
  {
   "cell_type": "code",
   "execution_count": 30,
   "id": "5c5d32dd-28b2-41fd-b325-cedd8a01442b",
   "metadata": {},
   "outputs": [
    {
     "name": "stdout",
     "output_type": "stream",
     "text": [
      "[20, 38, 54, 1, 2, 5, 50]\n",
      "[1, 2, 5, 20, 38, 50, 54]\n"
     ]
    }
   ],
   "source": [
    "print(l)\n",
    "l.sort()\n",
    "print(l)"
   ]
  },
  {
   "cell_type": "code",
   "execution_count": 31,
   "id": "64c35fbc-24eb-4e10-8803-6a7f73cbb597",
   "metadata": {},
   "outputs": [
    {
     "name": "stdout",
     "output_type": "stream",
     "text": [
      "[1, 2, 5, 20, 38, 50, 54]\n",
      "[54, 50, 38, 20, 5, 2, 1]\n"
     ]
    }
   ],
   "source": [
    "print(l)\n",
    "l.sort(reverse=True)\n",
    "print(l)"
   ]
  },
  {
   "cell_type": "code",
   "execution_count": 32,
   "id": "3a53edc3-72a8-42b3-a95d-8148da83dced",
   "metadata": {},
   "outputs": [
    {
     "name": "stdout",
     "output_type": "stream",
     "text": [
      "[10, 20, 30, 8, 25]\n",
      "[8, 10, 20, 25, 30]\n",
      "[30, 25, 20, 10, 8]\n"
     ]
    }
   ],
   "source": [
    "l=[10,20,30,8,25]\n",
    "print(l)\n",
    "l.sort()\n",
    "print(l)\n",
    "l.sort(reverse=True)\n",
    "print(l)"
   ]
  },
  {
   "cell_type": "code",
   "execution_count": 34,
   "id": "f3be1e57-e8ed-40f2-853d-d5d99f7bdb7e",
   "metadata": {},
   "outputs": [
    {
     "name": "stdout",
     "output_type": "stream",
     "text": [
      "['hi', 'hello', 'good morning']\n",
      "['hello', 'good morning']\n"
     ]
    }
   ],
   "source": [
    "l=['hi','hello','good morning']\n",
    "print(l)\n",
    "l.pop(0)\n",
    "print(l)"
   ]
  },
  {
   "cell_type": "code",
   "execution_count": 35,
   "id": "641b023c-8ec4-4c81-87e1-6f05cb6f4831",
   "metadata": {},
   "outputs": [
    {
     "name": "stdout",
     "output_type": "stream",
     "text": [
      "['hi', 'hello', 'good morning']\n",
      "['good morning', 'hello', 'hi']\n"
     ]
    }
   ],
   "source": [
    "l=['hi','hello','good morning']\n",
    "print(l)\n",
    "l.sort()\n",
    "print(l)"
   ]
  },
  {
   "cell_type": "code",
   "execution_count": 37,
   "id": "ec1e1486-3307-42e6-b0fb-17a626b105fd",
   "metadata": {},
   "outputs": [
    {
     "name": "stdout",
     "output_type": "stream",
     "text": [
      "['hi', '1', 'hello', '4', 'good morning', '3']\n",
      "['1', '3', '4', 'good morning', 'hello', 'hi']\n"
     ]
    }
   ],
   "source": [
    "l=['hi','1','hello','4','good morning','3']\n",
    "print(l)\n",
    "l.sort()\n",
    "print(l)"
   ]
  },
  {
   "cell_type": "code",
   "execution_count": 38,
   "id": "a756c2ae-5ff0-4f0d-8a9d-d89bf3e0fef7",
   "metadata": {},
   "outputs": [
    {
     "name": "stdout",
     "output_type": "stream",
     "text": [
      "[57, 38, 35, 25, 1, 20]\n"
     ]
    }
   ],
   "source": [
    "a=[20,1,25,35,38,57]\n",
    "a.reverse()\n",
    "print(a)\n"
   ]
  },
  {
   "cell_type": "code",
   "execution_count": 39,
   "id": "bed85d20-264f-47be-98bf-82a0fa9b67c6",
   "metadata": {},
   "outputs": [
    {
     "name": "stdout",
     "output_type": "stream",
     "text": [
      "(25, 5.2, 'dog', False)\n"
     ]
    }
   ],
   "source": [
    "t= (25,5.2,'dog',False)\n",
    "print(t)\n"
   ]
  },
  {
   "cell_type": "code",
   "execution_count": 40,
   "id": "ccbbdfb7-7425-42ef-97da-35e52fa771f0",
   "metadata": {},
   "outputs": [
    {
     "data": {
      "text/plain": [
       "tuple"
      ]
     },
     "execution_count": 40,
     "metadata": {},
     "output_type": "execute_result"
    }
   ],
   "source": [
    "type(t)"
   ]
  },
  {
   "cell_type": "code",
   "execution_count": 43,
   "id": "c7c60c96-c7a7-4211-a3e6-7f395743379e",
   "metadata": {},
   "outputs": [
    {
     "data": {
      "text/plain": [
       "(25, 5.2, 'dog', False)"
      ]
     },
     "execution_count": 43,
     "metadata": {},
     "output_type": "execute_result"
    }
   ],
   "source": [
    "t[::]"
   ]
  },
  {
   "cell_type": "code",
   "execution_count": 44,
   "id": "f9e9eeae-3c8f-4148-b3b9-728abf40767d",
   "metadata": {},
   "outputs": [
    {
     "data": {
      "text/plain": [
       "(False, 'dog', 5.2, 25)"
      ]
     },
     "execution_count": 44,
     "metadata": {},
     "output_type": "execute_result"
    }
   ],
   "source": [
    "t[::-1]"
   ]
  },
  {
   "cell_type": "code",
   "execution_count": 45,
   "id": "6bcacf17-a2e9-4e4b-bdad-b08198aa76f4",
   "metadata": {},
   "outputs": [
    {
     "data": {
      "text/plain": [
       "False"
      ]
     },
     "execution_count": 45,
     "metadata": {},
     "output_type": "execute_result"
    }
   ],
   "source": [
    "t[3]"
   ]
  },
  {
   "cell_type": "code",
   "execution_count": 47,
   "id": "3106b3d3-f19d-4626-86ef-ddcabaa1d869",
   "metadata": {},
   "outputs": [
    {
     "data": {
      "text/plain": [
       "1"
      ]
     },
     "execution_count": 47,
     "metadata": {},
     "output_type": "execute_result"
    }
   ],
   "source": [
    "t.count(False)"
   ]
  },
  {
   "cell_type": "code",
   "execution_count": 49,
   "id": "07fc8226-60c9-4b4e-83ae-9c8c2d7a2bd7",
   "metadata": {},
   "outputs": [
    {
     "data": {
      "text/plain": [
       "2"
      ]
     },
     "execution_count": 49,
     "metadata": {},
     "output_type": "execute_result"
    }
   ],
   "source": [
    "t.index('dog')"
   ]
  },
  {
   "cell_type": "code",
   "execution_count": 50,
   "id": "14cccc0b-ec8b-40e4-9e15-a5333991cbc5",
   "metadata": {},
   "outputs": [
    {
     "data": {
      "text/plain": [
       "[10, 20, 30, 40]"
      ]
     },
     "execution_count": 50,
     "metadata": {},
     "output_type": "execute_result"
    }
   ],
   "source": [
    "sorted((10,20,30,40,))"
   ]
  },
  {
   "cell_type": "code",
   "execution_count": 51,
   "id": "1db36e92-67f0-4027-ac1f-65e99c1bcc96",
   "metadata": {},
   "outputs": [
    {
     "name": "stdout",
     "output_type": "stream",
     "text": [
      "{38, 1, 50, 54}\n"
     ]
    }
   ],
   "source": [
    "s={38,1,54,50}\n",
    "print(s)"
   ]
  },
  {
   "cell_type": "code",
   "execution_count": 52,
   "id": "09441e8d-419f-4ab1-8df3-fe9510704097",
   "metadata": {},
   "outputs": [
    {
     "data": {
      "text/plain": [
       "set"
      ]
     },
     "execution_count": 52,
     "metadata": {},
     "output_type": "execute_result"
    }
   ],
   "source": [
    "type(s)"
   ]
  },
  {
   "cell_type": "code",
   "execution_count": 53,
   "id": "dd0f8d81-8d83-434e-83a4-609f79a13805",
   "metadata": {},
   "outputs": [
    {
     "name": "stdout",
     "output_type": "stream",
     "text": [
      "{1, 3, 4, 5, 6, 7}\n"
     ]
    }
   ],
   "source": [
    "a = {1,1,3,3,4,5,4,4,4,6,7,5}\n",
    "print(a)"
   ]
  },
  {
   "cell_type": "code",
   "execution_count": 54,
   "id": "7e384e8e-d1f5-4bc6-8514-c6ef3d07fefe",
   "metadata": {},
   "outputs": [
    {
     "name": "stdout",
     "output_type": "stream",
     "text": [
      "{1, 3, 4, 5, 6, 7}\n",
      "{1, 3, 4, 5, 6, 7, 8}\n"
     ]
    }
   ],
   "source": [
    "print(a)\n",
    "a.add(8)\n",
    "print(a)"
   ]
  },
  {
   "cell_type": "code",
   "execution_count": 56,
   "id": "68b3a6e1-7414-4c97-9d4f-e29def942d82",
   "metadata": {},
   "outputs": [],
   "source": [
    "a = {1,3,5,6,7}\n",
    "b = {3,8,4}"
   ]
  },
  {
   "cell_type": "code",
   "execution_count": 57,
   "id": "fd1bd0bb-18f0-4060-9fe7-732a3e8e6ace",
   "metadata": {},
   "outputs": [
    {
     "data": {
      "text/plain": [
       "{1, 3, 4, 5, 6, 7, 8}"
      ]
     },
     "execution_count": 57,
     "metadata": {},
     "output_type": "execute_result"
    }
   ],
   "source": [
    "a.union(b)"
   ]
  },
  {
   "cell_type": "code",
   "execution_count": 58,
   "id": "5878c077-0f8b-4018-908b-f0f59d15bce1",
   "metadata": {},
   "outputs": [
    {
     "data": {
      "text/plain": [
       "{3}"
      ]
     },
     "execution_count": 58,
     "metadata": {},
     "output_type": "execute_result"
    }
   ],
   "source": [
    "a.intersection(b)"
   ]
  },
  {
   "cell_type": "code",
   "execution_count": 59,
   "id": "dec8607c-f199-4cbb-875e-8fa8f453bb25",
   "metadata": {},
   "outputs": [
    {
     "data": {
      "text/plain": [
       "{3}"
      ]
     },
     "execution_count": 59,
     "metadata": {},
     "output_type": "execute_result"
    }
   ],
   "source": [
    "b.intersection(a)"
   ]
  },
  {
   "cell_type": "code",
   "execution_count": 61,
   "id": "07bf2850-92a6-4024-976c-cda316dd3d18",
   "metadata": {},
   "outputs": [
    {
     "data": {
      "text/plain": [
       "False"
      ]
     },
     "execution_count": 61,
     "metadata": {},
     "output_type": "execute_result"
    }
   ],
   "source": [
    "a.issubset(b)"
   ]
  },
  {
   "cell_type": "code",
   "execution_count": 62,
   "id": "9e447fff-0aaf-440f-aa70-acef854d4fdb",
   "metadata": {},
   "outputs": [
    {
     "data": {
      "text/plain": [
       "False"
      ]
     },
     "execution_count": 62,
     "metadata": {},
     "output_type": "execute_result"
    }
   ],
   "source": [
    "b.issubset(a)"
   ]
  },
  {
   "cell_type": "code",
   "execution_count": 64,
   "id": "ddd2b833-f48b-4f76-854a-b2c8d6a17785",
   "metadata": {},
   "outputs": [
    {
     "data": {
      "text/plain": [
       "False"
      ]
     },
     "execution_count": 64,
     "metadata": {},
     "output_type": "execute_result"
    }
   ],
   "source": [
    "a.isdisjoint(b)"
   ]
  },
  {
   "cell_type": "code",
   "execution_count": 65,
   "id": "63863a19-1060-4a32-985c-82d4577d75f3",
   "metadata": {},
   "outputs": [
    {
     "data": {
      "text/plain": [
       "False"
      ]
     },
     "execution_count": 65,
     "metadata": {},
     "output_type": "execute_result"
    }
   ],
   "source": [
    "b.isdisjoint(a)"
   ]
  },
  {
   "cell_type": "code",
   "execution_count": 66,
   "id": "bd73417e-5790-4ead-a650-897579a5c0e9",
   "metadata": {},
   "outputs": [
    {
     "name": "stdout",
     "output_type": "stream",
     "text": [
      "{1, 2, 3, 4, 5}\n",
      "{2, 3, 4, 5}\n"
     ]
    }
   ],
   "source": [
    "a= {1,2,3,4,5}\n",
    "print(a)\n",
    "a.pop()\n",
    "print(a)"
   ]
  },
  {
   "cell_type": "code",
   "execution_count": 67,
   "id": "8bb0fe57-e219-4bf3-9562-8b47a0b88c12",
   "metadata": {},
   "outputs": [
    {
     "name": "stdout",
     "output_type": "stream",
     "text": [
      "{2, 3, 4, 5}\n",
      "{2, 3, 4}\n"
     ]
    }
   ],
   "source": [
    "print(a)\n",
    "a.remove(5)\n",
    "print(a)"
   ]
  },
  {
   "cell_type": "code",
   "execution_count": 68,
   "id": "73865495-ddcd-4978-948c-14a2a7f9748a",
   "metadata": {},
   "outputs": [
    {
     "name": "stdout",
     "output_type": "stream",
     "text": [
      "{2, 3, 4}\n",
      "set()\n"
     ]
    }
   ],
   "source": [
    "print(a)\n",
    "a.clear()\n",
    "print(a)"
   ]
  },
  {
   "cell_type": "code",
   "execution_count": 69,
   "id": "621d7ee9-f22f-42ab-9f6d-08fe49914936",
   "metadata": {},
   "outputs": [
    {
     "name": "stdout",
     "output_type": "stream",
     "text": [
      "{'Name': 'Sunny', 'Roll': 25, 'Course': 'AIML'}\n"
     ]
    }
   ],
   "source": [
    "d = {'Name' : 'Sunny' , 'Roll' : 25,'Course' : 'AIML'}\n",
    "print(d)"
   ]
  },
  {
   "cell_type": "code",
   "execution_count": 70,
   "id": "591cc048-6153-4c88-88cb-9a56ff2552ae",
   "metadata": {},
   "outputs": [
    {
     "data": {
      "text/plain": [
       "dict"
      ]
     },
     "execution_count": 70,
     "metadata": {},
     "output_type": "execute_result"
    }
   ],
   "source": [
    "type(d)"
   ]
  },
  {
   "cell_type": "code",
   "execution_count": 71,
   "id": "86a65db6-d804-4cdc-acd7-5d8fc3a27cb9",
   "metadata": {},
   "outputs": [
    {
     "name": "stdout",
     "output_type": "stream",
     "text": [
      "{'Name': 'Sunny', 'Roll': 25, 'Course': 'AIML'}\n",
      "{'Name': 'Sunny', 'Roll': 25, 'Course': 'AIML', 'Marks': 99.9}\n"
     ]
    }
   ],
   "source": [
    "print(d)\n",
    "d.update({'Marks':99.9})\n",
    "print(d)"
   ]
  },
  {
   "cell_type": "code",
   "execution_count": 73,
   "id": "c95cb83c-67f5-4d99-b8d1-629b34bb7a70",
   "metadata": {},
   "outputs": [
    {
     "name": "stdout",
     "output_type": "stream",
     "text": [
      "{'Name': 'Sunny', 'Roll': 25, 'Course': 'AIML', 'Marks': 99.9}\n",
      "{'Name': 'Sunny', 'Roll': 25, 'Course': 'Python', 'Marks': 99.9}\n"
     ]
    }
   ],
   "source": [
    "print(d)\n",
    "d.update({'Course' : 'Python'})\n",
    "print(d)"
   ]
  },
  {
   "cell_type": "code",
   "execution_count": 74,
   "id": "8482e217-5415-41f9-8b7a-e2c88b05d767",
   "metadata": {},
   "outputs": [
    {
     "data": {
      "text/plain": [
       "dict_values(['Sunny', 25, 'Python', 99.9])"
      ]
     },
     "execution_count": 74,
     "metadata": {},
     "output_type": "execute_result"
    }
   ],
   "source": [
    "d.values()"
   ]
  },
  {
   "cell_type": "code",
   "execution_count": 75,
   "id": "177d10b8-fd22-4c86-885e-b9a86896505e",
   "metadata": {},
   "outputs": [
    {
     "data": {
      "text/plain": [
       "dict_items([('Name', 'Sunny'), ('Roll', 25), ('Course', 'Python'), ('Marks', 99.9)])"
      ]
     },
     "execution_count": 75,
     "metadata": {},
     "output_type": "execute_result"
    }
   ],
   "source": [
    "d.items()"
   ]
  },
  {
   "cell_type": "code",
   "execution_count": 76,
   "id": "96b63dfa-7f90-4b96-90ac-8fb191546972",
   "metadata": {},
   "outputs": [
    {
     "data": {
      "text/plain": [
       "'Sunny'"
      ]
     },
     "execution_count": 76,
     "metadata": {},
     "output_type": "execute_result"
    }
   ],
   "source": [
    "d.get('Name')"
   ]
  },
  {
   "cell_type": "code",
   "execution_count": 77,
   "id": "25fe11cd-db65-473b-90ce-712be8b888df",
   "metadata": {},
   "outputs": [
    {
     "name": "stdout",
     "output_type": "stream",
     "text": [
      "{'Name': 'Sunny', 'Roll': 25, 'Course': 'Python'}\n"
     ]
    }
   ],
   "source": [
    "d.popitem()\n",
    "print(d)"
   ]
  },
  {
   "cell_type": "code",
   "execution_count": 78,
   "id": "c89d1629-a9d4-4c40-9ee1-d58a74af6fde",
   "metadata": {},
   "outputs": [
    {
     "name": "stdout",
     "output_type": "stream",
     "text": [
      "{'Name': 'Sunny', 'Roll': 25, 'Course': 'Python'}\n",
      "{}\n"
     ]
    }
   ],
   "source": [
    "print(d)\n",
    "d.clear()\n",
    "print(d)"
   ]
  },
  {
   "cell_type": "code",
   "execution_count": 85,
   "id": "6faf4318-0f56-478d-8045-89d2cbcf4b7f",
   "metadata": {},
   "outputs": [
    {
     "name": "stdout",
     "output_type": "stream",
     "text": [
      "                                  2025\n",
      "\n",
      "      January                   February                   March\n",
      "Mo Tu We Th Fr Sa Su      Mo Tu We Th Fr Sa Su      Mo Tu We Th Fr Sa Su\n",
      "       1  2  3  4  5                      1  2                      1  2\n",
      " 6  7  8  9 10 11 12       3  4  5  6  7  8  9       3  4  5  6  7  8  9\n",
      "13 14 15 16 17 18 19      10 11 12 13 14 15 16      10 11 12 13 14 15 16\n",
      "20 21 22 23 24 25 26      17 18 19 20 21 22 23      17 18 19 20 21 22 23\n",
      "27 28 29 30 31            24 25 26 27 28            24 25 26 27 28 29 30\n",
      "                                                    31\n",
      "\n",
      "       April                      May                       June\n",
      "Mo Tu We Th Fr Sa Su      Mo Tu We Th Fr Sa Su      Mo Tu We Th Fr Sa Su\n",
      "    1  2  3  4  5  6                1  2  3  4                         1\n",
      " 7  8  9 10 11 12 13       5  6  7  8  9 10 11       2  3  4  5  6  7  8\n",
      "14 15 16 17 18 19 20      12 13 14 15 16 17 18       9 10 11 12 13 14 15\n",
      "21 22 23 24 25 26 27      19 20 21 22 23 24 25      16 17 18 19 20 21 22\n",
      "28 29 30                  26 27 28 29 30 31         23 24 25 26 27 28 29\n",
      "                                                    30\n",
      "\n",
      "        July                     August                  September\n",
      "Mo Tu We Th Fr Sa Su      Mo Tu We Th Fr Sa Su      Mo Tu We Th Fr Sa Su\n",
      "    1  2  3  4  5  6                   1  2  3       1  2  3  4  5  6  7\n",
      " 7  8  9 10 11 12 13       4  5  6  7  8  9 10       8  9 10 11 12 13 14\n",
      "14 15 16 17 18 19 20      11 12 13 14 15 16 17      15 16 17 18 19 20 21\n",
      "21 22 23 24 25 26 27      18 19 20 21 22 23 24      22 23 24 25 26 27 28\n",
      "28 29 30 31               25 26 27 28 29 30 31      29 30\n",
      "\n",
      "      October                   November                  December\n",
      "Mo Tu We Th Fr Sa Su      Mo Tu We Th Fr Sa Su      Mo Tu We Th Fr Sa Su\n",
      "       1  2  3  4  5                      1  2       1  2  3  4  5  6  7\n",
      " 6  7  8  9 10 11 12       3  4  5  6  7  8  9       8  9 10 11 12 13 14\n",
      "13 14 15 16 17 18 19      10 11 12 13 14 15 16      15 16 17 18 19 20 21\n",
      "20 21 22 23 24 25 26      17 18 19 20 21 22 23      22 23 24 25 26 27 28\n",
      "27 28 29 30 31            24 25 26 27 28 29 30      29 30 31\n",
      "\n"
     ]
    }
   ],
   "source": [
    "import calendar\n",
    "print(calendar.calendar(2025))"
   ]
  },
  {
   "cell_type": "code",
   "execution_count": 86,
   "id": "453fc863-9419-4b59-a3ef-f6fcd78a86ef",
   "metadata": {},
   "outputs": [],
   "source": [
    "a = 11\n",
    "b = 2"
   ]
  },
  {
   "cell_type": "code",
   "execution_count": 87,
   "id": "fb59b781-cb8d-4b3b-bf8e-980f5771f001",
   "metadata": {},
   "outputs": [
    {
     "data": {
      "text/plain": [
       "13"
      ]
     },
     "execution_count": 87,
     "metadata": {},
     "output_type": "execute_result"
    }
   ],
   "source": [
    "a+b"
   ]
  },
  {
   "cell_type": "code",
   "execution_count": 88,
   "id": "d760e541-3541-463a-b3fd-58d18cd2a2a8",
   "metadata": {},
   "outputs": [
    {
     "data": {
      "text/plain": [
       "9"
      ]
     },
     "execution_count": 88,
     "metadata": {},
     "output_type": "execute_result"
    }
   ],
   "source": [
    "a - b"
   ]
  },
  {
   "cell_type": "code",
   "execution_count": 89,
   "id": "a7fb7335-525d-4c7e-851b-237c68758805",
   "metadata": {},
   "outputs": [
    {
     "data": {
      "text/plain": [
       "22"
      ]
     },
     "execution_count": 89,
     "metadata": {},
     "output_type": "execute_result"
    }
   ],
   "source": [
    "a * b"
   ]
  },
  {
   "cell_type": "code",
   "execution_count": 90,
   "id": "0fef914c-d34a-4059-8ccf-55ea38f7b80e",
   "metadata": {},
   "outputs": [
    {
     "data": {
      "text/plain": [
       "5.5"
      ]
     },
     "execution_count": 90,
     "metadata": {},
     "output_type": "execute_result"
    }
   ],
   "source": [
    "a / b"
   ]
  },
  {
   "cell_type": "code",
   "execution_count": 91,
   "id": "e95abaf9-6a7f-4dfd-9bc1-9d137619bfa0",
   "metadata": {},
   "outputs": [
    {
     "data": {
      "text/plain": [
       "5"
      ]
     },
     "execution_count": 91,
     "metadata": {},
     "output_type": "execute_result"
    }
   ],
   "source": [
    "a // b"
   ]
  },
  {
   "cell_type": "code",
   "execution_count": 92,
   "id": "162a3445-1829-45a8-86f3-a22d1fd43ed6",
   "metadata": {},
   "outputs": [
    {
     "data": {
      "text/plain": [
       "121"
      ]
     },
     "execution_count": 92,
     "metadata": {},
     "output_type": "execute_result"
    }
   ],
   "source": [
    "a ** b"
   ]
  },
  {
   "cell_type": "code",
   "execution_count": 93,
   "id": "1a47ab12-c3fb-42fc-a7d2-47b84879a605",
   "metadata": {},
   "outputs": [
    {
     "data": {
      "text/plain": [
       "60.5"
      ]
     },
     "execution_count": 93,
     "metadata": {},
     "output_type": "execute_result"
    }
   ],
   "source": [
    "(a ** b)/b"
   ]
  },
  {
   "cell_type": "code",
   "execution_count": 94,
   "id": "6b396a5d-b93a-4c4f-b434-4cb7971f8ebd",
   "metadata": {},
   "outputs": [
    {
     "data": {
      "text/plain": [
       "1"
      ]
     },
     "execution_count": 94,
     "metadata": {},
     "output_type": "execute_result"
    }
   ],
   "source": [
    "a % b"
   ]
  },
  {
   "cell_type": "code",
   "execution_count": 95,
   "id": "e5b6f010-5721-4b59-8c4d-37ee0a57a828",
   "metadata": {},
   "outputs": [
    {
     "data": {
      "text/plain": [
       "8"
      ]
     },
     "execution_count": 95,
     "metadata": {},
     "output_type": "execute_result"
    }
   ],
   "source": [
    "2 ** 3"
   ]
  },
  {
   "cell_type": "code",
   "execution_count": 96,
   "id": "c5e3b46f-53a9-438e-8b3e-937e85b21f91",
   "metadata": {},
   "outputs": [
    {
     "data": {
      "text/plain": [
       "42535295865117307932921825928971026432"
      ]
     },
     "execution_count": 96,
     "metadata": {},
     "output_type": "execute_result"
    }
   ],
   "source": [
    "2 ** 5 ** 3"
   ]
  },
  {
   "cell_type": "code",
   "execution_count": 97,
   "id": "5e5e9aff-34f2-41b0-a50a-c1b37527beed",
   "metadata": {},
   "outputs": [],
   "source": [
    "a+=1"
   ]
  },
  {
   "cell_type": "code",
   "execution_count": 98,
   "id": "b073255d-4404-48a8-b397-faa236e703de",
   "metadata": {},
   "outputs": [],
   "source": [
    "a=5"
   ]
  },
  {
   "cell_type": "code",
   "execution_count": 99,
   "id": "efe5dbb7-812d-46c8-a4e0-8e728fd740d3",
   "metadata": {},
   "outputs": [],
   "source": [
    "a+=1"
   ]
  },
  {
   "cell_type": "code",
   "execution_count": 101,
   "id": "f93901bb-c0eb-4d14-b24b-3154fc0ed5a0",
   "metadata": {},
   "outputs": [
    {
     "name": "stdout",
     "output_type": "stream",
     "text": [
      "5\n"
     ]
    }
   ],
   "source": [
    "a = 5\n",
    "print(a)\n"
   ]
  },
  {
   "cell_type": "code",
   "execution_count": 103,
   "id": "d580e583-9305-423e-9df0-96cd80195b1c",
   "metadata": {},
   "outputs": [
    {
     "name": "stdout",
     "output_type": "stream",
     "text": [
      "7\n"
     ]
    }
   ],
   "source": [
    "a += 1\n",
    "print(a)"
   ]
  },
  {
   "cell_type": "code",
   "execution_count": 104,
   "id": "822619ec-621d-4958-9d2f-822764b5848b",
   "metadata": {},
   "outputs": [
    {
     "name": "stdout",
     "output_type": "stream",
     "text": [
      "8\n"
     ]
    }
   ],
   "source": [
    "a+=1\n",
    "print(a)"
   ]
  },
  {
   "cell_type": "code",
   "execution_count": 105,
   "id": "e92170f1-8bf0-4a7e-a579-a976dadde234",
   "metadata": {},
   "outputs": [
    {
     "name": "stdout",
     "output_type": "stream",
     "text": [
      "5\n"
     ]
    }
   ],
   "source": [
    "a = 5\n",
    "print(a)"
   ]
  },
  {
   "cell_type": "code",
   "execution_count": 107,
   "id": "39c1752a-382c-445b-b956-703a34bffa43",
   "metadata": {},
   "outputs": [
    {
     "name": "stdout",
     "output_type": "stream",
     "text": [
      "6\n"
     ]
    }
   ],
   "source": [
    "a = 6\n",
    "print(a)"
   ]
  },
  {
   "cell_type": "code",
   "execution_count": 108,
   "id": "31306d04-0786-474f-a6c8-1457df5f07da",
   "metadata": {},
   "outputs": [
    {
     "name": "stdout",
     "output_type": "stream",
     "text": [
      "7\n"
     ]
    }
   ],
   "source": [
    "a+=1\n",
    "print(a)"
   ]
  },
  {
   "cell_type": "code",
   "execution_count": 110,
   "id": "df4d004c-bc3b-4b43-9185-bdf69083724d",
   "metadata": {},
   "outputs": [
    {
     "name": "stdout",
     "output_type": "stream",
     "text": [
      "5\n"
     ]
    }
   ],
   "source": [
    "a-=1\n",
    "print(a)"
   ]
  },
  {
   "cell_type": "code",
   "execution_count": 111,
   "id": "769da133-7562-4af8-85d0-4720e593c42a",
   "metadata": {},
   "outputs": [
    {
     "name": "stdout",
     "output_type": "stream",
     "text": [
      "6\n"
     ]
    }
   ],
   "source": [
    "a=6\n",
    "print(a)"
   ]
  },
  {
   "cell_type": "code",
   "execution_count": 112,
   "id": "1341a6ba-f6f4-4df0-985a-930b8d30ffba",
   "metadata": {},
   "outputs": [
    {
     "name": "stdout",
     "output_type": "stream",
     "text": [
      "5\n"
     ]
    }
   ],
   "source": [
    "a-=1\n",
    "print(a)"
   ]
  },
  {
   "cell_type": "code",
   "execution_count": 113,
   "id": "21153ea5-714a-4474-8535-5dd16fae6f68",
   "metadata": {},
   "outputs": [
    {
     "name": "stdout",
     "output_type": "stream",
     "text": [
      "4\n"
     ]
    }
   ],
   "source": [
    "a-=1\n",
    "print(a)"
   ]
  },
  {
   "cell_type": "code",
   "execution_count": 114,
   "id": "17c723dd-f235-4d8b-a690-084962c482d6",
   "metadata": {},
   "outputs": [
    {
     "data": {
      "text/plain": [
       "True"
      ]
     },
     "execution_count": 114,
     "metadata": {},
     "output_type": "execute_result"
    }
   ],
   "source": [
    "10 == 10"
   ]
  },
  {
   "cell_type": "code",
   "execution_count": 115,
   "id": "e5f671e1-d2fd-4143-902c-81f00a35cb1d",
   "metadata": {},
   "outputs": [
    {
     "data": {
      "text/plain": [
       "True"
      ]
     },
     "execution_count": 115,
     "metadata": {},
     "output_type": "execute_result"
    }
   ],
   "source": [
    "10>5"
   ]
  },
  {
   "cell_type": "code",
   "execution_count": 116,
   "id": "a96f2bd3-8cfc-4b85-b230-4b33a7523a7a",
   "metadata": {},
   "outputs": [
    {
     "data": {
      "text/plain": [
       "False"
      ]
     },
     "execution_count": 116,
     "metadata": {},
     "output_type": "execute_result"
    }
   ],
   "source": [
    "10!=10"
   ]
  },
  {
   "cell_type": "code",
   "execution_count": 117,
   "id": "c51ce7e2-657e-47a7-92e9-b160c0d02f34",
   "metadata": {},
   "outputs": [
    {
     "data": {
      "text/plain": [
       "True"
      ]
     },
     "execution_count": 117,
     "metadata": {},
     "output_type": "execute_result"
    }
   ],
   "source": [
    "10>5 and 5<10"
   ]
  },
  {
   "cell_type": "code",
   "execution_count": 118,
   "id": "2b043ad5-cb00-4429-8fb5-c9232a12a842",
   "metadata": {},
   "outputs": [
    {
     "data": {
      "text/plain": [
       "False"
      ]
     },
     "execution_count": 118,
     "metadata": {},
     "output_type": "execute_result"
    }
   ],
   "source": [
    "10<5 and 5<10"
   ]
  },
  {
   "cell_type": "code",
   "execution_count": 119,
   "id": "eb906a22-3023-4ee2-ad6a-36ef240e3c1d",
   "metadata": {},
   "outputs": [
    {
     "data": {
      "text/plain": [
       "True"
      ]
     },
     "execution_count": 119,
     "metadata": {},
     "output_type": "execute_result"
    }
   ],
   "source": [
    "10>5 or 5<10"
   ]
  },
  {
   "cell_type": "code",
   "execution_count": 1,
   "id": "e398e64f-15cc-4f4b-90ed-ea57a8f9f921",
   "metadata": {},
   "outputs": [
    {
     "data": {
      "text/plain": [
       "int"
      ]
     },
     "execution_count": 1,
     "metadata": {},
     "output_type": "execute_result"
    }
   ],
   "source": [
    "a=10\n",
    "type(a)"
   ]
  },
  {
   "cell_type": "code",
   "execution_count": 2,
   "id": "348e2baa-d0d3-47c0-9fc8-9050eda12dbd",
   "metadata": {},
   "outputs": [
    {
     "data": {
      "text/plain": [
       "140708274645720"
      ]
     },
     "execution_count": 2,
     "metadata": {},
     "output_type": "execute_result"
    }
   ],
   "source": [
    "id(a)\n"
   ]
  },
  {
   "cell_type": "code",
   "execution_count": 3,
   "id": "b32cef20-94ae-4a67-ab0a-ce0b0fb4bb61",
   "metadata": {},
   "outputs": [],
   "source": [
    "a=6\n",
    "b=6"
   ]
  },
  {
   "cell_type": "code",
   "execution_count": 4,
   "id": "4b4fb266-3c52-4680-ac6e-8b0f102ccd97",
   "metadata": {},
   "outputs": [
    {
     "data": {
      "text/plain": [
       "True"
      ]
     },
     "execution_count": 4,
     "metadata": {},
     "output_type": "execute_result"
    }
   ],
   "source": [
    "a is b"
   ]
  },
  {
   "cell_type": "code",
   "execution_count": 5,
   "id": "efa0489c-6b51-4419-8d6f-9652891ad970",
   "metadata": {},
   "outputs": [
    {
     "data": {
      "text/plain": [
       "False"
      ]
     },
     "execution_count": 5,
     "metadata": {},
     "output_type": "execute_result"
    }
   ],
   "source": [
    "a is not b"
   ]
  },
  {
   "cell_type": "code",
   "execution_count": 6,
   "id": "de899157-002c-4694-ab83-a12ac4538aae",
   "metadata": {},
   "outputs": [
    {
     "data": {
      "text/plain": [
       "140708274645592"
      ]
     },
     "execution_count": 6,
     "metadata": {},
     "output_type": "execute_result"
    }
   ],
   "source": [
    "id(a)"
   ]
  },
  {
   "cell_type": "code",
   "execution_count": 7,
   "id": "2ba782e4-a900-4a09-af8c-d69975921127",
   "metadata": {},
   "outputs": [
    {
     "data": {
      "text/plain": [
       "140708274645592"
      ]
     },
     "execution_count": 7,
     "metadata": {},
     "output_type": "execute_result"
    }
   ],
   "source": [
    "id(b)"
   ]
  },
  {
   "cell_type": "code",
   "execution_count": 8,
   "id": "17bae95c-c319-480f-ba09-89c455776d52",
   "metadata": {},
   "outputs": [],
   "source": [
    "x = [1,2,3]\n",
    "y = [1,2,3]"
   ]
  },
  {
   "cell_type": "code",
   "execution_count": 9,
   "id": "4e2473cf-23cf-469a-a3f4-29b48ea57e5d",
   "metadata": {},
   "outputs": [
    {
     "data": {
      "text/plain": [
       "False"
      ]
     },
     "execution_count": 9,
     "metadata": {},
     "output_type": "execute_result"
    }
   ],
   "source": [
    "x is y"
   ]
  },
  {
   "cell_type": "code",
   "execution_count": 10,
   "id": "34f4a070-45b0-40a9-bb99-2ac35fab4456",
   "metadata": {},
   "outputs": [
    {
     "data": {
      "text/plain": [
       "True"
      ]
     },
     "execution_count": 10,
     "metadata": {},
     "output_type": "execute_result"
    }
   ],
   "source": [
    "x is not y"
   ]
  },
  {
   "cell_type": "code",
   "execution_count": 11,
   "id": "e57db622-4e38-4680-9a8c-105f7967fd56",
   "metadata": {},
   "outputs": [
    {
     "data": {
      "text/plain": [
       "1404187330496"
      ]
     },
     "execution_count": 11,
     "metadata": {},
     "output_type": "execute_result"
    }
   ],
   "source": [
    "id(x)"
   ]
  },
  {
   "cell_type": "code",
   "execution_count": 12,
   "id": "82fd3e3f-40ab-40b0-9b9e-25334edbf589",
   "metadata": {},
   "outputs": [
    {
     "data": {
      "text/plain": [
       "1404187330944"
      ]
     },
     "execution_count": 12,
     "metadata": {},
     "output_type": "execute_result"
    }
   ],
   "source": [
    "id(y)"
   ]
  },
  {
   "cell_type": "code",
   "execution_count": 13,
   "id": "bb8a1782-d234-4cbd-b840-8d60bfec11e1",
   "metadata": {},
   "outputs": [],
   "source": [
    "m = 2+5j\n",
    "n = 2+5j"
   ]
  },
  {
   "cell_type": "code",
   "execution_count": 14,
   "id": "48f3664e-bff1-4543-a0d3-0761be9c807a",
   "metadata": {},
   "outputs": [
    {
     "data": {
      "text/plain": [
       "False"
      ]
     },
     "execution_count": 14,
     "metadata": {},
     "output_type": "execute_result"
    }
   ],
   "source": [
    "m is n"
   ]
  },
  {
   "cell_type": "code",
   "execution_count": 15,
   "id": "44b8e47f-24aa-45b4-8614-f6e5238696a8",
   "metadata": {},
   "outputs": [
    {
     "data": {
      "text/plain": [
       "True"
      ]
     },
     "execution_count": 15,
     "metadata": {},
     "output_type": "execute_result"
    }
   ],
   "source": [
    "m is not n"
   ]
  },
  {
   "cell_type": "code",
   "execution_count": 16,
   "id": "1ca23e34-cffe-4624-a936-4a11b4db7046",
   "metadata": {},
   "outputs": [
    {
     "data": {
      "text/plain": [
       "1404185948208"
      ]
     },
     "execution_count": 16,
     "metadata": {},
     "output_type": "execute_result"
    }
   ],
   "source": [
    "id(m)"
   ]
  },
  {
   "cell_type": "code",
   "execution_count": 17,
   "id": "f6c608b2-217f-4595-9664-acbc8556696d",
   "metadata": {},
   "outputs": [
    {
     "data": {
      "text/plain": [
       "1404185947952"
      ]
     },
     "execution_count": 17,
     "metadata": {},
     "output_type": "execute_result"
    }
   ],
   "source": [
    "id(n)"
   ]
  },
  {
   "cell_type": "code",
   "execution_count": 19,
   "id": "6e27cb4f-8720-4a74-8c03-92fe8cb8e8f5",
   "metadata": {},
   "outputs": [],
   "source": [
    "m = 'nan'\n",
    "n = 'nan'"
   ]
  },
  {
   "cell_type": "code",
   "execution_count": 20,
   "id": "f3221fa8-550f-4ef4-b38e-3a6f34d2c073",
   "metadata": {},
   "outputs": [
    {
     "data": {
      "text/plain": [
       "True"
      ]
     },
     "execution_count": 20,
     "metadata": {},
     "output_type": "execute_result"
    }
   ],
   "source": [
    "m is n"
   ]
  },
  {
   "cell_type": "code",
   "execution_count": 21,
   "id": "85e8d549-8522-42f7-9853-f01476b70b18",
   "metadata": {},
   "outputs": [],
   "source": [
    "m = {1,2}\n",
    "n = {1,2}"
   ]
  },
  {
   "cell_type": "code",
   "execution_count": 22,
   "id": "5d0cea62-c83a-4125-a55a-e96037b3a18e",
   "metadata": {},
   "outputs": [
    {
     "data": {
      "text/plain": [
       "False"
      ]
     },
     "execution_count": 22,
     "metadata": {},
     "output_type": "execute_result"
    }
   ],
   "source": [
    "m is n"
   ]
  },
  {
   "cell_type": "code",
   "execution_count": 23,
   "id": "bd199dee-4b41-47da-9351-4d68f0fea59d",
   "metadata": {},
   "outputs": [],
   "source": [
    "a = 10\n",
    "b = 10"
   ]
  },
  {
   "cell_type": "code",
   "execution_count": 24,
   "id": "67212078-b244-4a76-a820-c46ec29a2901",
   "metadata": {},
   "outputs": [
    {
     "data": {
      "text/plain": [
       "True"
      ]
     },
     "execution_count": 24,
     "metadata": {},
     "output_type": "execute_result"
    }
   ],
   "source": [
    "a is b"
   ]
  },
  {
   "cell_type": "code",
   "execution_count": 25,
   "id": "9b1cf6f2-2954-4616-9d59-0542dd562b72",
   "metadata": {},
   "outputs": [],
   "source": [
    "a = 1000\n",
    "b = 1000"
   ]
  },
  {
   "cell_type": "code",
   "execution_count": 26,
   "id": "f7952c8b-37b0-4d48-92d2-6d2366ab0d70",
   "metadata": {},
   "outputs": [
    {
     "data": {
      "text/plain": [
       "False"
      ]
     },
     "execution_count": 26,
     "metadata": {},
     "output_type": "execute_result"
    }
   ],
   "source": [
    "a is b"
   ]
  },
  {
   "cell_type": "code",
   "execution_count": 27,
   "id": "1d9563b1-80b7-44d7-b6ce-9c2f21d902db",
   "metadata": {},
   "outputs": [],
   "source": [
    "a = 257\n",
    "b = 257"
   ]
  },
  {
   "cell_type": "code",
   "execution_count": 28,
   "id": "ecc10ac0-ae7a-455c-9b95-8a8e81ae588c",
   "metadata": {},
   "outputs": [
    {
     "data": {
      "text/plain": [
       "False"
      ]
     },
     "execution_count": 28,
     "metadata": {},
     "output_type": "execute_result"
    }
   ],
   "source": [
    "a is b\n"
   ]
  },
  {
   "cell_type": "code",
   "execution_count": 29,
   "id": "6646e670-55b2-4169-9f8a-ef81ebde5945",
   "metadata": {},
   "outputs": [],
   "source": [
    "a = 256\n",
    "b = 256"
   ]
  },
  {
   "cell_type": "code",
   "execution_count": 30,
   "id": "68645552-7ef0-4871-8125-4fd3608c9028",
   "metadata": {},
   "outputs": [
    {
     "data": {
      "text/plain": [
       "True"
      ]
     },
     "execution_count": 30,
     "metadata": {},
     "output_type": "execute_result"
    }
   ],
   "source": [
    "a is b"
   ]
  },
  {
   "cell_type": "code",
   "execution_count": 31,
   "id": "1139140c-cfcf-463c-ba3f-c8f16bce9c3f",
   "metadata": {},
   "outputs": [],
   "source": [
    "m = -6\n",
    "n = -6"
   ]
  },
  {
   "cell_type": "code",
   "execution_count": 32,
   "id": "e232bccf-ea3c-4b65-8951-32ac24c51825",
   "metadata": {},
   "outputs": [
    {
     "data": {
      "text/plain": [
       "False"
      ]
     },
     "execution_count": 32,
     "metadata": {},
     "output_type": "execute_result"
    }
   ],
   "source": [
    "m is n"
   ]
  },
  {
   "cell_type": "code",
   "execution_count": 34,
   "id": "470d0a86-552d-4d22-81de-c82ea7ec2afe",
   "metadata": {},
   "outputs": [
    {
     "data": {
      "text/plain": [
       "True"
      ]
     },
     "execution_count": 34,
     "metadata": {},
     "output_type": "execute_result"
    }
   ],
   "source": [
    "'a' in 'apple'"
   ]
  },
  {
   "cell_type": "code",
   "execution_count": 36,
   "id": "c5b528c2-f913-45c7-8b42-777c10e6ae7e",
   "metadata": {},
   "outputs": [
    {
     "data": {
      "text/plain": [
       "True"
      ]
     },
     "execution_count": 36,
     "metadata": {},
     "output_type": "execute_result"
    }
   ],
   "source": [
    "'a' not in 'Apple'"
   ]
  },
  {
   "cell_type": "code",
   "execution_count": 47,
   "id": "dbe2ac62-1da9-4e6f-9d51-492302ea8281",
   "metadata": {},
   "outputs": [
    {
     "name": "stdout",
     "output_type": "stream",
     "text": [
      "(20, 2.5, 'cat', [1, 2, 3, 4], True)\n"
     ]
    }
   ],
   "source": [
    "t = (20,2.5,'cat',[1,2,3,4],True)\n",
    "print(t)\n",
    "t[3].append(5)"
   ]
  },
  {
   "cell_type": "code",
   "execution_count": 48,
   "id": "41db655a-03b1-43aa-8c7a-abb60240baef",
   "metadata": {},
   "outputs": [
    {
     "name": "stdout",
     "output_type": "stream",
     "text": [
      "(10, 1.5, 'cat', [1, 2, 3], True)\n"
     ]
    }
   ],
   "source": [
    "t = (10,1.5,'cat',[1,2,3],True)\n",
    "print(t)"
   ]
  },
  {
   "cell_type": "code",
   "execution_count": 49,
   "id": "aa2b44ff-b5bb-455d-80ab-d33e7beae9b7",
   "metadata": {},
   "outputs": [],
   "source": [
    "t[3].append(4)"
   ]
  },
  {
   "cell_type": "code",
   "execution_count": 50,
   "id": "cf4c9891-a76b-40dd-88e9-d4cf00d12b4f",
   "metadata": {},
   "outputs": [
    {
     "name": "stdout",
     "output_type": "stream",
     "text": [
      "(10, 1.5, 'cat', [1, 2, 3], True)\n"
     ]
    }
   ],
   "source": [
    "t = (10,1.5,'cat',[1,2,3],True)\n",
    "print(t)"
   ]
  },
  {
   "cell_type": "code",
   "execution_count": 51,
   "id": "3f34b493-5b6d-4f27-aa97-ec50332e02be",
   "metadata": {},
   "outputs": [
    {
     "name": "stdout",
     "output_type": "stream",
     "text": [
      "(10, 1.5, 'cat', [1, 2, 3, 4], True)\n"
     ]
    }
   ],
   "source": [
    "t[3].append(4)\n",
    "print(t)"
   ]
  },
  {
   "cell_type": "code",
   "execution_count": 54,
   "id": "f9c9433a-4a2b-44a0-b119-13e2db14d0e8",
   "metadata": {},
   "outputs": [
    {
     "data": {
      "text/plain": [
       "str"
      ]
     },
     "execution_count": 54,
     "metadata": {},
     "output_type": "execute_result"
    }
   ],
   "source": [
    "a = '1234'\n",
    "type(a)"
   ]
  },
  {
   "cell_type": "code",
   "execution_count": 55,
   "id": "15c09150-6b35-41a4-af15-67e19dd23aff",
   "metadata": {},
   "outputs": [
    {
     "name": "stdout",
     "output_type": "stream",
     "text": [
      "1234\n"
     ]
    }
   ],
   "source": [
    "i=int(a)\n",
    "print(i)"
   ]
  },
  {
   "cell_type": "code",
   "execution_count": 57,
   "id": "54c7055e-58ae-4dab-b700-9abe0d751c19",
   "metadata": {},
   "outputs": [
    {
     "name": "stdout",
     "output_type": "stream",
     "text": [
      "1234.0\n"
     ]
    }
   ],
   "source": [
    "f = float(i)\n",
    "print(f)"
   ]
  },
  {
   "cell_type": "code",
   "execution_count": 58,
   "id": "9ab69f51-af01-48f1-9823-dbf3071c9581",
   "metadata": {},
   "outputs": [
    {
     "name": "stdout",
     "output_type": "stream",
     "text": [
      "(1234+0j)\n"
     ]
    }
   ],
   "source": [
    "c = complex(i)\n",
    "print(c)"
   ]
  },
  {
   "cell_type": "code",
   "execution_count": 59,
   "id": "b16a5002-7264-4670-8e53-8683060a5980",
   "metadata": {},
   "outputs": [
    {
     "name": "stdout",
     "output_type": "stream",
     "text": [
      "hello everyone\n"
     ]
    }
   ],
   "source": [
    "a = 'hello everyone'\n",
    "print(a)"
   ]
  },
  {
   "cell_type": "code",
   "execution_count": 60,
   "id": "295af83c-b1e4-49f1-8917-ed3585d41bf6",
   "metadata": {},
   "outputs": [
    {
     "name": "stdout",
     "output_type": "stream",
     "text": [
      "['h', 'e', 'l', 'l', 'o', ' ', 'e', 'v', 'e', 'r', 'y', 'o', 'n', 'e']\n"
     ]
    },
    {
     "data": {
      "text/plain": [
       "list"
      ]
     },
     "execution_count": 60,
     "metadata": {},
     "output_type": "execute_result"
    }
   ],
   "source": [
    "l = list(a)\n",
    "print(l)\n",
    "type(l)"
   ]
  },
  {
   "cell_type": "code",
   "execution_count": 62,
   "id": "bbb5817f-aad3-49ae-b4c2-a4f50451d7e1",
   "metadata": {},
   "outputs": [
    {
     "name": "stdout",
     "output_type": "stream",
     "text": [
      "('h', 'e', 'l', 'l', 'o', ' ', 'e', 'v', 'e', 'r', 'y', 'o', 'n', 'e')\n"
     ]
    },
    {
     "data": {
      "text/plain": [
       "tuple"
      ]
     },
     "execution_count": 62,
     "metadata": {},
     "output_type": "execute_result"
    }
   ],
   "source": [
    "t = tuple(a)\n",
    "print(t)\n",
    "type(t)"
   ]
  },
  {
   "cell_type": "code",
   "execution_count": 63,
   "id": "3fe28308-dec0-4224-8c9b-984c5d300ef4",
   "metadata": {},
   "outputs": [
    {
     "name": "stdout",
     "output_type": "stream",
     "text": [
      "{'y', 'v', ' ', 'n', 'l', 'o', 'h', 'r', 'e'}\n"
     ]
    },
    {
     "data": {
      "text/plain": [
       "set"
      ]
     },
     "execution_count": 63,
     "metadata": {},
     "output_type": "execute_result"
    }
   ],
   "source": [
    "s = set(a)\n",
    "print(s)\n",
    "type(s)"
   ]
  },
  {
   "cell_type": "code",
   "execution_count": 65,
   "id": "d70ce13a-8b85-488f-90ce-224ace589e8e",
   "metadata": {},
   "outputs": [
    {
     "name": "stdout",
     "output_type": "stream",
     "text": [
      "{'Name': 'Nandini', 'Roll': '38'}\n"
     ]
    },
    {
     "data": {
      "text/plain": [
       "dict"
      ]
     },
     "execution_count": 65,
     "metadata": {},
     "output_type": "execute_result"
    }
   ],
   "source": [
    "d = [('Name','Nandini'),('Roll', '38')]\n",
    "b = dict(d)\n",
    "print(b)\n",
    "type(b)"
   ]
  },
  {
   "cell_type": "code",
   "execution_count": 66,
   "id": "3fe1d95a-c2b1-4be4-93d2-f5db69574f47",
   "metadata": {},
   "outputs": [
    {
     "data": {
      "text/plain": [
       "'cat🐈dog 🐕'"
      ]
     },
     "execution_count": 66,
     "metadata": {},
     "output_type": "execute_result"
    }
   ],
   "source": [
    "'cat🐈' + 'dog 🐕'"
   ]
  },
  {
   "cell_type": "code",
   "execution_count": 67,
   "id": "1253af42-1ce2-4559-a4cb-122346f65b61",
   "metadata": {},
   "outputs": [
    {
     "data": {
      "text/plain": [
       "'👌👌👌👌👌👌👌👌👌👌'"
      ]
     },
     "execution_count": 67,
     "metadata": {},
     "output_type": "execute_result"
    }
   ],
   "source": [
    "'👌'*10"
   ]
  },
  {
   "cell_type": "code",
   "execution_count": 68,
   "id": "a95fc432-60da-4633-a1bf-6a70e7e9f443",
   "metadata": {},
   "outputs": [
    {
     "name": "stdout",
     "output_type": "stream",
     "text": [
      "Hello Summer\n"
     ]
    }
   ],
   "source": [
    "print('Hello Summer')"
   ]
  },
  {
   "cell_type": "code",
   "execution_count": 69,
   "id": "696cea74-48c3-437b-82d7-9037b4d61ddc",
   "metadata": {},
   "outputs": [
    {
     "name": "stdin",
     "output_type": "stream",
     "text": [
      " hey\n"
     ]
    },
    {
     "data": {
      "text/plain": [
       "'hey'"
      ]
     },
     "execution_count": 69,
     "metadata": {},
     "output_type": "execute_result"
    }
   ],
   "source": [
    "input()"
   ]
  },
  {
   "cell_type": "code",
   "execution_count": 70,
   "id": "76698d76-cf7c-4ac3-bcdf-c9290857438e",
   "metadata": {},
   "outputs": [
    {
     "name": "stdin",
     "output_type": "stream",
     "text": [
      " How are you?\n"
     ]
    },
    {
     "data": {
      "text/plain": [
       "'How are you?'"
      ]
     },
     "execution_count": 70,
     "metadata": {},
     "output_type": "execute_result"
    }
   ],
   "source": [
    "input()"
   ]
  },
  {
   "cell_type": "code",
   "execution_count": 71,
   "id": "e9ccb0b9-8cd5-4251-849f-ade824ef750c",
   "metadata": {},
   "outputs": [
    {
     "name": "stdin",
     "output_type": "stream",
     "text": [
      " hey\n"
     ]
    },
    {
     "data": {
      "text/plain": [
       "'hey'"
      ]
     },
     "execution_count": 71,
     "metadata": {},
     "output_type": "execute_result"
    }
   ],
   "source": [
    "input()\n"
   ]
  },
  {
   "cell_type": "code",
   "execution_count": 72,
   "id": "04fcd55d-cd0d-4a2e-bb96-ee774700202b",
   "metadata": {},
   "outputs": [
    {
     "name": "stdin",
     "output_type": "stream",
     "text": [
      "Enter your name : Nandu\n"
     ]
    }
   ],
   "source": [
    "a = input('Enter your name :')"
   ]
  },
  {
   "cell_type": "code",
   "execution_count": 73,
   "id": "ac4b1e49-8140-47e0-b175-ddf591d99955",
   "metadata": {},
   "outputs": [
    {
     "data": {
      "text/plain": [
       "'Nandu'"
      ]
     },
     "execution_count": 73,
     "metadata": {},
     "output_type": "execute_result"
    }
   ],
   "source": [
    "a"
   ]
  },
  {
   "cell_type": "code",
   "execution_count": 75,
   "id": "ee0b55ab-2d8c-4bd2-a84b-b16c9fd342f2",
   "metadata": {},
   "outputs": [
    {
     "name": "stdin",
     "output_type": "stream",
     "text": [
      "Enter num1: 12\n",
      "Enter num2: 12\n"
     ]
    },
    {
     "data": {
      "text/plain": [
       "24"
      ]
     },
     "execution_count": 75,
     "metadata": {},
     "output_type": "execute_result"
    }
   ],
   "source": [
    "a = int(input('Enter num1:'))\n",
    "b = int(input('Enter num2:'))\n",
    "a+b"
   ]
  },
  {
   "cell_type": "code",
   "execution_count": 76,
   "id": "15457b1c-4918-4e89-a88a-3c367ffab3dd",
   "metadata": {},
   "outputs": [
    {
     "name": "stdout",
     "output_type": "stream",
     "text": [
      "the goat\n"
     ]
    }
   ],
   "source": [
    "if 10>5:\n",
    "    print('the goat')"
   ]
  },
  {
   "cell_type": "code",
   "execution_count": 78,
   "id": "b97bcac1-0e0b-4068-9f11-948f17aedac5",
   "metadata": {},
   "outputs": [
    {
     "name": "stdin",
     "output_type": "stream",
     "text": [
      "Enter the num : 5\n"
     ]
    },
    {
     "name": "stdout",
     "output_type": "stream",
     "text": [
      "Nandu is cool\n"
     ]
    }
   ],
   "source": [
    "n = int(input('Enter the num :'))\n",
    "if n<=5:\n",
    "        print('Nandu is cool')"
   ]
  },
  {
   "cell_type": "code",
   "execution_count": 81,
   "id": "c8d789e3-6f50-4f77-9c60-349a194df987",
   "metadata": {},
   "outputs": [
    {
     "name": "stdin",
     "output_type": "stream",
     "text": [
      "Enter the n: 10\n"
     ]
    },
    {
     "name": "stdout",
     "output_type": "stream",
     "text": [
      "Nandu is a angel\n"
     ]
    }
   ],
   "source": [
    "n = int(input('Enter the n:'))\n",
    "if n<=5:\n",
    "    print('Nandu is cool')\n",
    "else:\n",
    "    print('Nandu is a angel')\n",
    "    "
   ]
  },
  {
   "cell_type": "code",
   "execution_count": 82,
   "id": "b4af3fdf-78ab-457f-8231-8f5f5f30d7c9",
   "metadata": {},
   "outputs": [
    {
     "name": "stdin",
     "output_type": "stream",
     "text": [
      "Enter a num: 20\n"
     ]
    },
    {
     "name": "stdout",
     "output_type": "stream",
     "text": [
      "Even\n"
     ]
    }
   ],
   "source": [
    "n = int(input('Enter a num:'))\n",
    "if n%2==0:\n",
    "    print('Even')\n",
    "else:\n",
    "    print('odd')"
   ]
  },
  {
   "cell_type": "code",
   "execution_count": 83,
   "id": "7bc2e9d4-0e60-4246-92d2-f89ba3fb24a8",
   "metadata": {},
   "outputs": [
    {
     "name": "stdin",
     "output_type": "stream",
     "text": [
      "Enter your age: 5\n"
     ]
    },
    {
     "name": "stdout",
     "output_type": "stream",
     "text": [
      "Chinna pillavu nuvvu\n"
     ]
    }
   ],
   "source": [
    "age = int(input('Enter your age:'))\n",
    "if age>=18:\n",
    "    print('You are eligible for voting')\n",
    "else:\n",
    "    print('Chinna pillavu nuvvu')"
   ]
  },
  {
   "cell_type": "code",
   "execution_count": 85,
   "id": "c02e475e-1f29-4e19-a990-9617cb95654e",
   "metadata": {},
   "outputs": [
    {
     "name": "stdin",
     "output_type": "stream",
     "text": [
      "Enter your age: 16\n"
     ]
    },
    {
     "name": "stdout",
     "output_type": "stream",
     "text": [
      "pakkaki poyi aduko chinna\n"
     ]
    }
   ],
   "source": [
    "age = int(input('Enter your age:'))\n",
    "if age>=18:\n",
    "    print('You can vote')\n",
    "else:\n",
    "    print('pakkaki poyi aduko chinna')\n",
    "    "
   ]
  },
  {
   "cell_type": "code",
   "execution_count": 90,
   "id": "b69e7135-e367-4039-bc5c-9de5dcf25fd0",
   "metadata": {},
   "outputs": [
    {
     "name": "stdin",
     "output_type": "stream",
     "text": [
      "Enter  a num: 17\n"
     ]
    },
    {
     "name": "stdout",
     "output_type": "stream",
     "text": [
      "Odd and positive\n"
     ]
    }
   ],
   "source": [
    "n = int(input('Enter  a num:'))\n",
    "if n%2==0:\n",
    "    if n>0:\n",
    "        print('Even and positive')\n",
    "    else:\n",
    "        print('Even and negative')\n",
    "else:\n",
    "    if n>0:\n",
    "        print('Odd and positive')\n",
    "    else:\n",
    "        print('Odd and negative')\n",
    "    "
   ]
  },
  {
   "cell_type": "code",
   "execution_count": 97,
   "id": "b4e1a37a-9d76-4e1c-8dfa-59cca2192bed",
   "metadata": {},
   "outputs": [
    {
     "name": "stdin",
     "output_type": "stream",
     "text": [
      "Enter the name nan\n"
     ]
    },
    {
     "name": "stdout",
     "output_type": "stream",
     "text": [
      "Come\n"
     ]
    }
   ],
   "source": [
    "n=input('Enter the name')\n",
    "if n=='nan':\n",
    "    if n!='nan':\n",
    "        print('Get out')\n",
    "    else:\n",
    "        print('Come')\n",
    "else:\n",
    "    if n=='nan':\n",
    "        print('Welcome')\n",
    "    else:\n",
    "        print('Exit')\n",
    "    \n",
    "    \n",
    "    "
   ]
  },
  {
   "cell_type": "code",
   "execution_count": 100,
   "id": "8205caf9-6a22-4e14-9715-d46e7bf75b44",
   "metadata": {},
   "outputs": [
    {
     "name": "stdin",
     "output_type": "stream",
     "text": [
      "Enter the date : 18\n"
     ]
    },
    {
     "name": "stdout",
     "output_type": "stream",
     "text": [
      "Happy Birthday Harshitha\n"
     ]
    }
   ],
   "source": [
    "n = int(input('Enter the date :'))\n",
    "if n==23:\n",
    "    print('Happy Birthday Nandu')\n",
    "elif n==8:\n",
    "    print('Happy Birthday Himaja')\n",
    "elif n==14:\n",
    "    print('Happy Birthday Mythri')\n",
    "elif n==18:\n",
    "    print('Happy Birthday Harshitha')"
   ]
  },
  {
   "cell_type": "code",
   "execution_count": 1,
   "id": "a135005a-53b3-47de-a621-04bb870d92de",
   "metadata": {},
   "outputs": [
    {
     "name": "stdin",
     "output_type": "stream",
     "text": [
      "Enter the name : Himu\n"
     ]
    },
    {
     "name": "stdout",
     "output_type": "stream",
     "text": [
      "Your birthday is in january\n"
     ]
    }
   ],
   "source": [
    "n  = input('Enter the name :')\n",
    "if n=='Nandu':\n",
    "    print('Your birthday is in august')\n",
    "elif n=='Harshu':\n",
    "    print('Your birthday is in july')\n",
    "elif n=='Himu':\n",
    "    print('Your birthday is in january')\n",
    "elif n=='Mythri':\n",
    "    print('Your birthday is in january')"
   ]
  },
  {
   "cell_type": "code",
   "execution_count": 7,
   "id": "5bf12a58-dcd3-457a-91f1-a3eeb7732c8c",
   "metadata": {},
   "outputs": [
    {
     "name": "stdin",
     "output_type": "stream",
     "text": [
      "Enter the name : Nandini\n",
      "Enter the roll no : 438\n",
      "Enter the marks : 97\n"
     ]
    },
    {
     "name": "stdout",
     "output_type": "stream",
     "text": [
      "A+ grade\n"
     ]
    }
   ],
   "source": [
    "input('Enter the name :')\n",
    "input('Enter the roll no :')\n",
    "n = int(input('Enter the marks :'))\n",
    "if n>=93:\n",
    "    print('A+ grade')\n",
    "elif n>83 and n<=92:\n",
    "    print('A grade')\n",
    "elif n>72 and n<=83:\n",
    "    print('B grade')\n",
    "elif n>63 and n<=72:\n",
    "    print('C grade')\n",
    "elif n>50 and n<=63:\n",
    "    print('D grade')\n",
    "elif n>30 and n<=50:\n",
    "    print('E grade')\n",
    "else:\n",
    "    print('You are fail')"
   ]
  },
  {
   "cell_type": "code",
   "execution_count": 10,
   "id": "46b5fdad-7ff4-4bdc-b021-8267caf32e51",
   "metadata": {},
   "outputs": [
    {
     "name": "stdout",
     "output_type": "stream",
     "text": [
      "3\n",
      "8\n",
      "1\n",
      "8\n"
     ]
    }
   ],
   "source": [
    "for i in '3818':\n",
    "  print(i)"
   ]
  },
  {
   "cell_type": "code",
   "execution_count": 12,
   "id": "c00e32ac-766b-4018-b211-a25a34adf103",
   "metadata": {},
   "outputs": [
    {
     "name": "stdout",
     "output_type": "stream",
     "text": [
      "p\n",
      "y\n",
      "t\n",
      "h\n",
      "o\n",
      "n\n"
     ]
    }
   ],
   "source": [
    "for i in 'python':\n",
    "   print(i)"
   ]
  },
  {
   "cell_type": "code",
   "execution_count": 13,
   "id": "7a6a88cf-0476-4bfc-9b2a-046c32b2abe8",
   "metadata": {},
   "outputs": [
    {
     "name": "stdout",
     "output_type": "stream",
     "text": [
      "apple\n",
      "cherry\n",
      "mango\n"
     ]
    }
   ],
   "source": [
    "for i in ['apple','cherry','mango']:\n",
    "    print(i)"
   ]
  },
  {
   "cell_type": "code",
   "execution_count": 18,
   "id": "0beee756-8711-45b8-9e14-ff6320da153b",
   "metadata": {},
   "outputs": [
    {
     "name": "stdout",
     "output_type": "stream",
     "text": [
      "1\n",
      "2\n",
      "3\n",
      "4\n"
     ]
    }
   ],
   "source": [
    "n = [1,2,3,4]\n",
    "for i in n:\n",
    "    print(i)"
   ]
  },
  {
   "cell_type": "code",
   "execution_count": 19,
   "id": "9353b513-d14c-4bcc-a9b3-f3eba85b8468",
   "metadata": {},
   "outputs": [
    {
     "name": "stdout",
     "output_type": "stream",
     "text": [
      "cockroach\n",
      "ant\n",
      "rat\n",
      "snake\n"
     ]
    }
   ],
   "source": [
    "s = {'ant','rat','snake','cockroach'}\n",
    "for i in s:\n",
    "    print(i)"
   ]
  },
  {
   "cell_type": "code",
   "execution_count": 25,
   "id": "c9ab04ab-c387-4f17-8b75-75207c2a8454",
   "metadata": {},
   "outputs": [
    {
     "name": "stdout",
     "output_type": "stream",
     "text": [
      "('Name', 'Nan')\n",
      "('Roll no', '438')\n",
      "('Class', 'ECE A')\n"
     ]
    }
   ],
   "source": [
    "d = {'Name' : 'Nan','Roll no' : '438','Class' : 'ECE A'}\n",
    "for i in d.items():\n",
    "    print(i)"
   ]
  },
  {
   "cell_type": "code",
   "execution_count": 27,
   "id": "14c0d10a-f712-4004-867a-c1459a9dc75e",
   "metadata": {},
   "outputs": [
    {
     "name": "stdout",
     "output_type": "stream",
     "text": [
      "1 2 3 4 5 6 7 8 9 10 "
     ]
    }
   ],
   "source": [
    "x=[1,2,3,4,5,6,7,8,9,10]\n",
    "for i in x:\n",
    "    print(i,end=' ')"
   ]
  },
  {
   "cell_type": "code",
   "execution_count": 34,
   "id": "7d05a4fb-740a-4f11-9478-cf2513211077",
   "metadata": {},
   "outputs": [
    {
     "name": "stdout",
     "output_type": "stream",
     "text": [
      "1 3 5 7 9 11 13 15 17 19 21 23 25 27 29 31 33 35 37 39 41 43 45 47 49 51 53 55 57 59 61 63 65 67 69 71 73 75 77 79 81 83 85 87 89 91 93 95 97 99 101 103 105 107 109 111 113 115 117 119 121 123 125 127 129 131 133 135 137 139 141 143 145 147 149 151 153 155 157 159 161 163 165 167 169 171 173 175 177 179 181 183 185 187 189 191 193 195 197 199 "
     ]
    }
   ],
   "source": [
    "for i in range(1,200,2):\n",
    "    print(i,end=' ')\n"
   ]
  },
  {
   "cell_type": "code",
   "execution_count": 35,
   "id": "382d9536-ba94-46df-a1b3-0797000b3094",
   "metadata": {},
   "outputs": [
    {
     "name": "stdout",
     "output_type": "stream",
     "text": [
      "0 2 4 6 8 10 12 14 16 18 20 22 24 26 28 30 32 34 36 38 40 42 44 46 48 50 52 54 56 58 60 62 64 66 68 70 72 74 76 78 80 82 84 86 88 90 92 94 96 98 100 102 104 106 108 110 112 114 116 118 120 122 124 126 128 130 132 134 136 138 140 142 144 146 148 150 152 154 156 158 160 162 164 166 168 170 172 174 176 178 180 182 184 186 188 190 192 194 196 198 "
     ]
    }
   ],
   "source": [
    "for i in range(0,200,2):\n",
    "    print(i,end=' ')"
   ]
  },
  {
   "cell_type": "code",
   "execution_count": 37,
   "id": "febe2fd1-7a4d-4edf-a164-17b6f8c5e8f0",
   "metadata": {},
   "outputs": [
    {
     "name": "stdout",
     "output_type": "stream",
     "text": [
      "100 99 98 97 96 95 94 93 92 91 90 89 88 87 86 85 84 83 82 81 80 79 78 77 76 75 74 73 72 71 70 69 68 67 66 65 64 63 62 61 60 59 58 57 56 55 54 53 52 51 50 49 48 47 46 45 44 43 42 41 40 39 38 37 36 35 34 33 32 31 30 29 28 27 26 25 24 23 22 21 20 19 18 17 16 15 14 13 12 11 10 9 8 7 6 5 4 3 2 1 "
     ]
    }
   ],
   "source": [
    "for i in range(100,0,-1):\n",
    "    print(i,end=' ')"
   ]
  },
  {
   "cell_type": "code",
   "execution_count": 38,
   "id": "4dc986fa-35b3-4515-b26b-8629bff24f27",
   "metadata": {},
   "outputs": [
    {
     "name": "stdout",
     "output_type": "stream",
     "text": [
      "100 98 96 94 92 90 88 86 84 82 80 78 76 74 72 70 68 66 64 62 60 58 56 54 52 50 48 46 44 42 40 38 36 34 32 30 28 26 24 22 20 18 16 14 12 10 8 6 4 2 "
     ]
    }
   ],
   "source": [
    "for i in range(100,0,-2):\n",
    "    print(i,end=' ')"
   ]
  },
  {
   "cell_type": "code",
   "execution_count": 39,
   "id": "c8467b90-2d7e-49d0-b455-a277fbb369a5",
   "metadata": {},
   "outputs": [
    {
     "name": "stdout",
     "output_type": "stream",
     "text": [
      "100 98 96 94 92 90 88 86 84 82 80 78 76 74 72 70 68 66 64 62 60 58 56 54 52 50 48 46 44 42 40 38 36 34 32 30 28 26 24 22 20 18 16 14 12 10 8 6 4 2 "
     ]
    }
   ],
   "source": [
    "for i in range(100,0,-1):\n",
    "    if i%2==0:\n",
    "        print(i,end=' ')\n",
    "        "
   ]
  },
  {
   "cell_type": "code",
   "execution_count": 42,
   "id": "98b4730b-05b8-4dd6-ab57-149c93752829",
   "metadata": {},
   "outputs": [
    {
     "name": "stdout",
     "output_type": "stream",
     "text": [
      "198 195 192 189 186 183 180 177 174 171 168 165 162 159 156 153 150 147 144 141 138 135 132 129 126 123 120 117 114 111 108 105 102 "
     ]
    }
   ],
   "source": [
    "for i in range(200,99,-1):\n",
    "    if i%3==0:\n",
    "        print(i,end=' ')"
   ]
  },
  {
   "cell_type": "code",
   "execution_count": 48,
   "id": "ab79e521-e2d7-4416-8822-3398d283b20f",
   "metadata": {},
   "outputs": [
    {
     "name": "stdin",
     "output_type": "stream",
     "text": [
      "Enter your starting range : 1\n",
      "Enter tyour ending rage : 10\n"
     ]
    },
    {
     "name": "stdout",
     "output_type": "stream",
     "text": [
      "1 2 3 4 5 6 7 8 9 "
     ]
    }
   ],
   "source": [
    "n=int(input('Enter your starting range :'))\n",
    "m=int(input('Enter tyour ending rage :'))\n",
    "for i in range(n,m):\n",
    "    print(i,end=' ')"
   ]
  },
  {
   "cell_type": "code",
   "execution_count": 54,
   "id": "c35c4b4f-2a68-4e5e-b6ef-4ff54f6f186c",
   "metadata": {},
   "outputs": [
    {
     "name": "stdin",
     "output_type": "stream",
     "text": [
      "Enter the table : 2\n"
     ]
    },
    {
     "name": "stdout",
     "output_type": "stream",
     "text": [
      "2 x 1 = 2\n",
      "2 x 2 = 4\n",
      "2 x 3 = 6\n",
      "2 x 4 = 8\n",
      "2 x 5 = 10\n",
      "2 x 6 = 12\n",
      "2 x 7 = 14\n",
      "2 x 8 = 16\n",
      "2 x 9 = 18\n",
      "2 x 10 = 20\n"
     ]
    }
   ],
   "source": [
    "n = int(input('Enter the table :'))\n",
    "for i in range(1,11):\n",
    "    print(n,'x',i,'=',n*i)"
   ]
  },
  {
   "cell_type": "code",
   "execution_count": 57,
   "id": "ad4bd154-bd0f-4713-8a9b-94920c3946ad",
   "metadata": {},
   "outputs": [
    {
     "name": "stdin",
     "output_type": "stream",
     "text": [
      "Enter the number : 50\n"
     ]
    },
    {
     "name": "stdout",
     "output_type": "stream",
     "text": [
      "1 2 5 10 25 50 "
     ]
    }
   ],
   "source": [
    "n=int(input('Enter the number :'))\n",
    "for i in range(1,n+1):\n",
    "    if n%i==0:\n",
    "        print(i,end=' ')"
   ]
  },
  {
   "cell_type": "code",
   "execution_count": 66,
   "id": "1f097cf9-1f8d-44d0-815c-7eb6f6a1d64a",
   "metadata": {},
   "outputs": [
    {
     "name": "stdin",
     "output_type": "stream",
     "text": [
      "Enter a name : Nandini\n"
     ]
    },
    {
     "name": "stdout",
     "output_type": "stream",
     "text": [
      "a i i "
     ]
    }
   ],
   "source": [
    "n = input('Enter a name :')\n",
    "for i in n:\n",
    "    if i in 'aeiou':\n",
    "        print(i,end=' ')\n"
   ]
  },
  {
   "cell_type": "code",
   "execution_count": 8,
   "id": "d7c2c08c-90ba-4dc2-a25e-83febec2f374",
   "metadata": {},
   "outputs": [
    {
     "name": "stdout",
     "output_type": "stream",
     "text": [
      "1 1\n",
      "1 2\n",
      "1 3\n",
      "2 1\n",
      "2 2\n",
      "2 3\n",
      "3 1\n",
      "3 2\n",
      "3 3\n"
     ]
    }
   ],
   "source": [
    "for i in range(1,4):\n",
    "    for j in range(1,4):\n",
    "               print(i,j)"
   ]
  },
  {
   "cell_type": "code",
   "execution_count": 7,
   "id": "d188dec1-fa2f-4ed3-be77-5dd1e5c274b3",
   "metadata": {},
   "outputs": [
    {
     "name": "stdout",
     "output_type": "stream",
     "text": [
      "1\n",
      "2\n",
      "3\n",
      "4\n",
      "5\n"
     ]
    }
   ],
   "source": [
    "i=1\n",
    "while i<=5:\n",
    "    print(i)\n",
    "    i = i+1"
   ]
  },
  {
   "cell_type": "code",
   "execution_count": 4,
   "id": "c855716d-1adf-4a18-a599-e9545861ffec",
   "metadata": {},
   "outputs": [
    {
     "name": "stdout",
     "output_type": "stream",
     "text": [
      "100 98 96 94 92 90 88 86 84 82 80 78 76 74 72 70 68 66 64 62 60 58 56 54 52 50 48 46 44 42 40 38 36 34 32 30 28 26 24 22 20 18 16 14 12 10 8 6 4 2 "
     ]
    }
   ],
   "source": [
    "num = 100\n",
    "while num>=1:\n",
    "    if num%2==0:\n",
    "     print(num,end=' ')\n",
    "    num=num-1"
   ]
  },
  {
   "cell_type": "code",
   "execution_count": 1,
   "id": "d0682c28-7c2e-4ecd-8b54-2aabbb5109dc",
   "metadata": {},
   "outputs": [
    {
     "name": "stdout",
     "output_type": "stream",
     "text": [
      "200 195 190 185 180 175 170 165 160 155 150 145 140 135 130 125 120 115 110 105 100 "
     ]
    }
   ],
   "source": [
    "i=200\n",
    "while i>=100:\n",
    "        print(i,end=' ')\n",
    "        i=i-5"
   ]
  },
  {
   "cell_type": "code",
   "execution_count": 4,
   "id": "2e5ec993-b3d5-4669-8cc6-640eb347523d",
   "metadata": {},
   "outputs": [
    {
     "name": "stdin",
     "output_type": "stream",
     "text": [
      "Enter your age 23\n"
     ]
    },
    {
     "name": "stdout",
     "output_type": "stream",
     "text": [
      "You are eligible to vote\n"
     ]
    }
   ],
   "source": [
    "age=int(input('Enter your age'))\n",
    "while age>=18:\n",
    "    print('You are eligible to vote')\n",
    "    break"
   ]
  },
  {
   "cell_type": "code",
   "execution_count": null,
   "id": "3ac7985f-562c-4b9c-ba2d-87023c4fe518",
   "metadata": {},
   "outputs": [],
   "source": [
    "n = int(input('Enter the table:'))\n",
    "i=1\n",
    "while i<=10:\n",
    "    print(n,'x',i,'=',n*i)\n",
    "    i+=1"
   ]
  },
  {
   "cell_type": "code",
   "execution_count": null,
   "id": "4a8378b0-6980-4085-bb64-544fbffc6548",
   "metadata": {},
   "outputs": [],
   "source": [
    "for i in 'python':\n",
    "    if i=='h':\n",
    "        continnue\n",
    "    print(i)"
   ]
  },
  {
   "cell_type": "code",
   "execution_count": null,
   "id": "75799fb2-1c7e-426f-b7e5-b085542088f8",
   "metadata": {},
   "outputs": [],
   "source": []
  }
 ],
 "metadata": {
  "kernelspec": {
   "display_name": "Python [conda env:base] *",
   "language": "python",
   "name": "conda-base-py"
  },
  "language_info": {
   "codemirror_mode": {
    "name": "ipython",
    "version": 3
   },
   "file_extension": ".py",
   "mimetype": "text/x-python",
   "name": "python",
   "nbconvert_exporter": "python",
   "pygments_lexer": "ipython3",
   "version": "3.12.7"
  }
 },
 "nbformat": 4,
 "nbformat_minor": 5
}
